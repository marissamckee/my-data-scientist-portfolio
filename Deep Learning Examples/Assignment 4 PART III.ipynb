{
 "cells": [
  {
   "cell_type": "markdown",
   "metadata": {},
   "source": [
    "### Marissa McKee\n",
    "#### Introduction to Convolutional Neural Networks using TensorFlow\n",
    "UNT ADTA 5550 Summer 2020"
   ]
  },
  {
   "cell_type": "markdown",
   "metadata": {},
   "source": [
    "### MNIST Dataset\n",
    "Relevant Information: \n",
    "- 70,000 images in the dataset total\n",
    "- Training data (mnist.train) 55,000 images\n",
    "- Validation data (mnist.validate) 5,000 images – will not be using for this project \n",
    "- Test data (mnist.test) 10,000 images \n",
    "\n",
    "\n",
    "The dataset consist of pairs – handwritten digit images and it’s labels\n",
    "- Numbers range from 0 to 9 meaning 10 patterns in total\n",
    "- Handwritten number image: this is a gray scale with size 28 X 28 pixels\n",
    "- Label: this is actual digit number the handwritten digit represents (0 – 9)"
   ]
  },
  {
   "cell_type": "code",
   "execution_count": 1,
   "metadata": {},
   "outputs": [],
   "source": [
    "# Import libraries\n",
    "import numpy as np\n",
    "import pandas as pd\n",
    "import matplotlib.pyplot as plt\n",
    "%matplotlib inline\n",
    "import tensorflow as tf\n",
    "from tensorflow.examples.tutorials.mnist import input_data"
   ]
  },
  {
   "cell_type": "markdown",
   "metadata": {},
   "source": [
    "## 1. Import Data"
   ]
  },
  {
   "cell_type": "code",
   "execution_count": 2,
   "metadata": {},
   "outputs": [
    {
     "name": "stdout",
     "output_type": "stream",
     "text": [
      "WARNING:tensorflow:From <ipython-input-2-2b79ba01a943>:2: read_data_sets (from tensorflow.contrib.learn.python.learn.datasets.mnist) is deprecated and will be removed in a future version.\n",
      "Instructions for updating:\n",
      "Please use alternatives such as official/mnist/dataset.py from tensorflow/models.\n",
      "WARNING:tensorflow:From /opt/conda/lib/python3.7/site-packages/tensorflow_core/contrib/learn/python/learn/datasets/mnist.py:260: maybe_download (from tensorflow.contrib.learn.python.learn.datasets.base) is deprecated and will be removed in a future version.\n",
      "Instructions for updating:\n",
      "Please write your own downloading logic.\n",
      "WARNING:tensorflow:From /opt/conda/lib/python3.7/site-packages/tensorflow_core/contrib/learn/python/learn/datasets/mnist.py:262: extract_images (from tensorflow.contrib.learn.python.learn.datasets.mnist) is deprecated and will be removed in a future version.\n",
      "Instructions for updating:\n",
      "Please use tf.data to implement this functionality.\n",
      "Extracting MNIST_data/train-images-idx3-ubyte.gz\n",
      "WARNING:tensorflow:From /opt/conda/lib/python3.7/site-packages/tensorflow_core/contrib/learn/python/learn/datasets/mnist.py:267: extract_labels (from tensorflow.contrib.learn.python.learn.datasets.mnist) is deprecated and will be removed in a future version.\n",
      "Instructions for updating:\n",
      "Please use tf.data to implement this functionality.\n",
      "Extracting MNIST_data/train-labels-idx1-ubyte.gz\n",
      "WARNING:tensorflow:From /opt/conda/lib/python3.7/site-packages/tensorflow_core/contrib/learn/python/learn/datasets/mnist.py:110: dense_to_one_hot (from tensorflow.contrib.learn.python.learn.datasets.mnist) is deprecated and will be removed in a future version.\n",
      "Instructions for updating:\n",
      "Please use tf.one_hot on tensors.\n",
      "Extracting MNIST_data/t10k-images-idx3-ubyte.gz\n",
      "Extracting MNIST_data/t10k-labels-idx1-ubyte.gz\n",
      "WARNING:tensorflow:From /opt/conda/lib/python3.7/site-packages/tensorflow_core/contrib/learn/python/learn/datasets/mnist.py:290: DataSet.__init__ (from tensorflow.contrib.learn.python.learn.datasets.mnist) is deprecated and will be removed in a future version.\n",
      "Instructions for updating:\n",
      "Please use alternatives such as official/mnist/dataset.py from tensorflow/models.\n"
     ]
    }
   ],
   "source": [
    "# Import MNIST dataset from TensorFlow library\n",
    "mnist = input_data.read_data_sets(\"MNIST_data/\",one_hot=True) "
   ]
  },
  {
   "cell_type": "code",
   "execution_count": 3,
   "metadata": {},
   "outputs": [
    {
     "data": {
      "text/plain": [
       "55000"
      ]
     },
     "execution_count": 3,
     "metadata": {},
     "output_type": "execute_result"
    }
   ],
   "source": [
    "# Training record count\n",
    "mnist.train.num_examples"
   ]
  },
  {
   "cell_type": "code",
   "execution_count": 4,
   "metadata": {},
   "outputs": [
    {
     "data": {
      "text/plain": [
       "10000"
      ]
     },
     "execution_count": 4,
     "metadata": {},
     "output_type": "execute_result"
    }
   ],
   "source": [
    "# Testing record count\n",
    "mnist.test.num_examples"
   ]
  },
  {
   "cell_type": "markdown",
   "metadata": {},
   "source": [
    "## 2. Data Preparation"
   ]
  },
  {
   "cell_type": "markdown",
   "metadata": {},
   "source": [
    "### Initialize Weights in Filter"
   ]
  },
  {
   "cell_type": "code",
   "execution_count": 5,
   "metadata": {},
   "outputs": [],
   "source": [
    "# This function returns a tf.Variable used to store weights in a filter\n",
    "# This variable is initialized with values that can be used to initialize weights\n",
    "# The values are random numbers\n",
    "\n",
    "def initialize_weights (filter_shape):\n",
    "    init_random_dist = tf.truncated_normal(filter_shape, stddev=0.1)\n",
    "    return(tf.Variable(init_random_dist))"
   ]
  },
  {
   "cell_type": "markdown",
   "metadata": {},
   "source": [
    "### Initialize Bias"
   ]
  },
  {
   "cell_type": "code",
   "execution_count": 6,
   "metadata": {},
   "outputs": [],
   "source": [
    "# This function returns a tf.Variable used to store bias\n",
    "# This variable is initialized with values that can be used to initialize bias\n",
    "# The value is initialized to 0.1\n",
    "\n",
    "def initialize_bias(bias_shape):\n",
    "    initial_bias_vals = tf.constant(0.1, shape=bias_shape)\n",
    "    return(tf.Variable(initial_bias_vals))"
   ]
  },
  {
   "cell_type": "markdown",
   "metadata": {},
   "source": [
    "### Convolutional Layer Computation: Dot Product (x*W)"
   ]
  },
  {
   "cell_type": "code",
   "execution_count": 7,
   "metadata": {},
   "outputs": [],
   "source": [
    "# Define a function to set up a convolution layer (conv2D)\n",
    "# Parameters:\n",
    "# ---inputs: [batch,H,W,Channels]\n",
    "# ---filter_shape: [filter H, W, in_channels: (in_depth=in_num_filters),out_channels(out_depth=out_num_filters)]\n",
    "#     ---for example: [5,5,1,32]\n",
    "# Return: Outputs of the layer: the dot product: inputs * Weights: x*W\n",
    "\n",
    "def create_convolution_layer_and_compute_dot_product(inputs, filter_shape): \n",
    "    # Initialize the weights in the filter\n",
    "    filter_initialized_with_weights = initialize_weights(filter_shape)\n",
    "    \n",
    "    # Create a convolution layer\n",
    "    conv_layer_outputs = tf.nn.conv2d(inputs, filter_initialized_with_weights, strides=[1,1,1,1],\n",
    "                                     padding='SAME')\n",
    "    \n",
    "    # Return the convolution layer outputs\n",
    "    return(conv_layer_outputs)"
   ]
  },
  {
   "cell_type": "markdown",
   "metadata": {},
   "source": [
    "### Create a ReLU Layer and Perform Computation: Dot Product + Bias (x.W+b)"
   ]
  },
  {
   "cell_type": "code",
   "execution_count": 8,
   "metadata": {},
   "outputs": [],
   "source": [
    "# Define a ReLU function \n",
    "# First, set up a ReLU layer: an activaion function layer\n",
    "# Second, perform the computation: dot product _ bias (x*W) + b\n",
    "\n",
    "# ReLU: Rectified Linear Unit - activation function used in CNN\n",
    "# In this layer, the bias has been initialized\n",
    "# Parameters:\n",
    "# ---inputs: Outputs from the preceding convolution layer: dot product inputs * weights\n",
    "# ---filter_shape: [filter H, filter W, in_channels(in_depth=in_num_filters),out_channels(out_depth=out_num_filters)]\n",
    "#     --- for example: [5,5,1,32]\n",
    "\n",
    "# Return: Outputs of the layer: dot product + b: (x*W)+b\n",
    "\n",
    "def create_relu_layer_and_compute_dotproduct_plus_b(inputs, filter_shape):\n",
    "    # Initialize bias for each input channel\n",
    "    b = initialize_bias([filter_shape[3]])\n",
    "    \n",
    "    # Perform the computation first by adding: inputs (x*W) + b\n",
    "    # Create a ReLU layer associated with the preceding convolution layer\n",
    "    relu_layer_outputs = tf.nn.relu(inputs + b)\n",
    "    \n",
    "    # Reutrn the outputs of the ReLU layer\n",
    "    return(relu_layer_outputs)"
   ]
  },
  {
   "cell_type": "markdown",
   "metadata": {},
   "source": [
    "### Create a Pooling Layer and Reduce Spatial Size"
   ]
  },
  {
   "cell_type": "code",
   "execution_count": 9,
   "metadata": {},
   "outputs": [],
   "source": [
    "# Define a pooling function\n",
    "# First, create a pooling layer\n",
    "# Second, reduce the spatial size of the input data\n",
    "\n",
    "# Pooling method: Max pooling\n",
    "# Kernel size: 2x2\n",
    "# Stride: 2\n",
    "\n",
    "# Parameters:\n",
    "# --- inputs: Outputs of the preceding layer\n",
    "\n",
    "# Return: Outputs of the layer\n",
    "\n",
    "def create_maxpool2by2_and_reduce_spatial_size(inputs):\n",
    "    # Create a pooling layer\n",
    "    pooling_layer_outputs = tf.nn.max_pool(inputs, ksize=[1,2,2,1],strides=[1,2,2,1],\n",
    "                                          padding='SAME')\n",
    "    \n",
    "    # Return the pooling layer\n",
    "    return(pooling_layer_outputs)"
   ]
  },
  {
   "cell_type": "markdown",
   "metadata": {},
   "source": [
    "### Create Fully Connected Layer and Perform Computation: (inputs*Weights)+Bias"
   ]
  },
  {
   "cell_type": "code",
   "execution_count": 10,
   "metadata": {},
   "outputs": [],
   "source": [
    "# Define a function to set up a fully connected layer\n",
    "# Perform computation: (dot product ( inputs*Weight)) + bias\n",
    "# Parameters:\n",
    "# ---inputs: outputs of preceding layer\n",
    "# ---size: the size of the outputs (number of channels)\n",
    "\n",
    "def create_fully_connected_layer_and_compute_dotproduct_plus_bias(inputs,output_size):\n",
    "    # Get the number of input channels from the input\n",
    "    # Inputs: the outputs from the preceding layer or previous operation like reshaping \n",
    "    input_size = int(inputs.get_shape()[1])\n",
    "    \n",
    "    # Initialize the weights of the filter of the FC layer\n",
    "    # Filter shape: [in_channels, out_channels]\n",
    "    # Each weight for one filter cell\n",
    "    W = initialize_weights([input_size,output_size])\n",
    "    \n",
    "    # Initialize the bias: each bias one output channel\n",
    "    b = initialize_bias([output_size])\n",
    "    \n",
    "    # First, perform the computation for the FC layer: Dot product inputs * W\n",
    "    # Second, add bias to get the results: outputs of the FC layer\n",
    "    fc_xW_plus_bias_outputs = tf.matmul(inputs,W) + b\n",
    "    \n",
    "    # Return the results: outputs\n",
    "    return(fc_xW_plus_bias_outputs)"
   ]
  },
  {
   "cell_type": "markdown",
   "metadata": {},
   "source": [
    "## 3. Phase 1: Build the Convolutional Neural Network"
   ]
  },
  {
   "cell_type": "markdown",
   "metadata": {},
   "source": [
    "### CNN: Build and Train\n",
    "#### PHASE 1 - Build the convolutional neural network\n",
    "- Step 1: Create the first convolution layer (CONV) that uses ReLU as the activation function  \n",
    "- Step 2: Create the first pooling layer (POOL) that works hand in hand with the convolution layer. Repeat steps 1 and 2 until all the convolutional and pooling layers have been created\n",
    "- Step 3: Create a reshape/flattening layer to reshape output data from the last pooling layer\n",
    "- Step 4: Create a fully connected FC layer that accepts outputs from the reshape layer as its inputs. Repeat step 4 to create other fully connected layers if necessary\n",
    "- Step 5: Create a dropout layer to drop some outputs from the last fully connected layer\n",
    "- Step 6: Create the final output layer, a FC layer, that accepts the outputs from the dropout layer as it's inputs and produces the final outputs\n",
    "- Step 7: Use the loss function (softmax cross entropy loss) to compute the cross entropy loss (the gap between the predicted outputs and the labels).\n",
    "    - In other words, measure the probability error in discrete classification tasks in which the classes are mutually exclusive - each entry is exactly one class\n",
    "- Step 8: Create an optimizer to optimize the model by minimizing the cross entropy loss\n",
    "- Step 9: Create an AI deep learning trainer to train the neural network\n",
    "\n",
    "#### PHASE 2 - Train and test the convolutional neural network \n",
    "- Step 1: Train the network using the AI deep learning trainer create above and test it"
   ]
  },
  {
   "cell_type": "markdown",
   "metadata": {},
   "source": [
    "### Create Placeholders for Inputs and Labels: x and y_true"
   ]
  },
  {
   "cell_type": "code",
   "execution_count": 11,
   "metadata": {},
   "outputs": [],
   "source": [
    "# x PLACEHOLDER\n",
    "\n",
    "# Create a placeholder for the input data: x\n",
    "# x: 2D array placeholder that can hold any number of rows/records\n",
    "# ---Each row is a vector (1D array) to hold data for one image\n",
    "# ---Each row/image has 784 values: 1 pixel = 1 value\n",
    "\n",
    "x = tf.placeholder(tf.float32, shape=[None,784])"
   ]
  },
  {
   "cell_type": "code",
   "execution_count": 12,
   "metadata": {},
   "outputs": [],
   "source": [
    "# y_true PLACEHOLDER\n",
    "\n",
    "# Create a placeholder for the input data: x\n",
    "# y_true: 2D array placeholder that can hold any number of rows/records\n",
    "# ---Each row is a vector (1D array) of 10 values that indicate a digit between 0 and 9\n",
    "# ---Each row: label is stored in the one-hot format\n",
    "\n",
    "y_true = tf.placeholder(tf.float32, shape=[None,10])"
   ]
  },
  {
   "cell_type": "markdown",
   "metadata": {},
   "source": [
    "### Reshape the Input Placeholder x"
   ]
  },
  {
   "cell_type": "code",
   "execution_count": 13,
   "metadata": {},
   "outputs": [],
   "source": [
    "# Prepare feeding inputs into the first conv layer\n",
    "# Reshape the input x: a placeholder\n",
    "# from 1D array (vector) original input shape: 4D input [batch,H,W,depth channels]\n",
    "# Depth: color channels gray scale = 1\n",
    "# Reshaped inputs: x_image [1,28,28,1]\n",
    "\n",
    "x_image = tf.reshape(x, [-1,28,28,1])"
   ]
  },
  {
   "cell_type": "markdown",
   "metadata": {},
   "source": [
    "### Create First Convolutional Layer and Perform Computation: x*W+b"
   ]
  },
  {
   "cell_type": "markdown",
   "metadata": {},
   "source": [
    "### Convolutional Layer 1\n",
    "- Convolution 4D shape: [batch, H, W, depth] = [1,28,28,32]\n",
    "    - batch: subset of data\n",
    "    - H: height of input\n",
    "    - W: width of input\n",
    "    - depth: indicates the number of feature maps that we can get from a convolution layer\n",
    "- 2D data size: 28x28\n",
    "- Input shape: 28x28x1 Depth = 1 in_channel\n",
    "    - color is grayscale for in_channel\n",
    "- Output shape: 28x28x32 Depth = 32 out-channel\n",
    "    - extracts 32 features\n",
    "- Filter/Kernel/Window size: 5x5\n",
    "- Filter shape: [5,5,1,32]\n",
    "- Stride: 1\n",
    "- Stride shape: [1,1,1,1]\n",
    "- Padding: same\n",
    "- Activation function layer: ReLU"
   ]
  },
  {
   "cell_type": "code",
   "execution_count": 14,
   "metadata": {},
   "outputs": [],
   "source": [
    "# Create the first convoluation layer\n",
    "# Inputs: x_image: reshaped inputs with shape [1,28,28,1]\n",
    "# filter_shaoe: [5,5,1,32]\n",
    "# ---Filter:5x5\n",
    "# ---Input channels: 1\n",
    "# ---output channels: 32\n",
    "\n",
    "# Extract the features, get the results: dot product of inputs + weights\n",
    "# Return the outputs\n",
    "conv_layer_1_outputs = create_convolution_layer_and_compute_dot_product(x_image, filter_shape=[5,5,1,32])"
   ]
  },
  {
   "cell_type": "markdown",
   "metadata": {},
   "source": [
    "### Create First ReLu Layer and Perform Computation: x*W+b"
   ]
  },
  {
   "cell_type": "markdown",
   "metadata": {},
   "source": [
    "### ReLU Layer 1\n",
    "- No filter\n",
    "- Input shape: 28x28x32\n",
    "- Output shape: 28x28x32"
   ]
  },
  {
   "cell_type": "code",
   "execution_count": 15,
   "metadata": {},
   "outputs": [],
   "source": [
    "# Create the ReLU layer and the first convolution layer\n",
    "# Accept the outputs from the first convolution layer as the inputs\n",
    "# Perform the computation at the layer: add inputs + bias\n",
    "# Return the outputs of the layer\n",
    "\n",
    "conv_relu_layer_1_outputs = create_relu_layer_and_compute_dotproduct_plus_b(conv_layer_1_outputs, filter_shape=[5,5,1,32])"
   ]
  },
  {
   "cell_type": "markdown",
   "metadata": {},
   "source": [
    "### Create First Pooling Layer and Reduce Spatial Size"
   ]
  },
  {
   "cell_type": "markdown",
   "metadata": {},
   "source": [
    "### Pooling Layer 1\n",
    "- Pooling method: Max pooling\n",
    "- Filter/Kernel/Window size = 2x2\n",
    "- Filter/Kernel/Window shape: [1,2,2,1]\n",
    "- Stride: 2\n",
    "- Stride shape: [1,2,2,1]\n",
    "- Padding: same\n",
    "- Input channels: 32 inputs\n",
    "- Input shape: 28x28x32\n",
    "- Output channels: 32 outputs\n",
    "- Output shape: 14x14x32 "
   ]
  },
  {
   "cell_type": "code",
   "execution_count": 16,
   "metadata": {},
   "outputs": [],
   "source": [
    "# Create  the first pooling layer\n",
    "# Then reduce the spatial size of the input data\n",
    "# Return outputs of the layer\n",
    "\n",
    "pooling_layer_1_outputs = create_maxpool2by2_and_reduce_spatial_size(conv_relu_layer_1_outputs)"
   ]
  },
  {
   "cell_type": "markdown",
   "metadata": {},
   "source": [
    "### Reshape and Flatten Data Making it Ready to be Fed into First FC Layer"
   ]
  },
  {
   "cell_type": "code",
   "execution_count": 17,
   "metadata": {},
   "outputs": [],
   "source": [
    "# Reshape and flatten the output of the second pooling layer\n",
    "# prepare to feed the output data into the first fully connected layer\n",
    "pooling_layer_1_outputs_flat = tf.reshape(pooling_layer_1_outputs, [-1,14*14*32])"
   ]
  },
  {
   "cell_type": "markdown",
   "metadata": {},
   "source": [
    "### Create First FC Layer, ReLU Layer, and Output Data to Dropout Layer"
   ]
  },
  {
   "cell_type": "markdown",
   "metadata": {},
   "source": [
    "### Fully Connected Layer 1\n",
    "- FC_1 shape: [inputs (in_channels), outputs (out_channels)] = [7x7x64x1024]"
   ]
  },
  {
   "cell_type": "code",
   "execution_count": 18,
   "metadata": {},
   "outputs": [],
   "source": [
    "# First create the FC layer\n",
    "# Feed the output (already flattened) of the second pooling layer as the inputs into this layer\n",
    "# Then perform the computation: dot product + bias ( x*W)+b\n",
    "\n",
    "# Parameters:\n",
    "# ---pooling_layer_2_outputs_flat\n",
    "# ---output_size: 1024 out channels\n",
    "\n",
    "# Returns outputs of the computation (x*W)+b\n",
    "\n",
    "fc_layer_1_outputs = create_fully_connected_layer_and_compute_dotproduct_plus_bias(pooling_layer_1_outputs_flat,output_size=1024)\n",
    "\n",
    "# Create the ReLU layer of the first FC layer\n",
    "# The activation function of this layer is ReLU\n",
    "\n",
    "# Return the outputs of the layer\n",
    "\n",
    "fc_relu_layer_1_outputs = tf.nn.relu(fc_layer_1_outputs)"
   ]
  },
  {
   "cell_type": "markdown",
   "metadata": {},
   "source": [
    "### Create Dropout Layer and Dropout a Fraction of Outputs Randomly"
   ]
  },
  {
   "cell_type": "markdown",
   "metadata": {},
   "source": [
    "### Fully Connected Dropout Layer\n",
    "- FC_2 shape: [inputs (in_channels), outputs (out_channels)] = [1024,1024]"
   ]
  },
  {
   "cell_type": "code",
   "execution_count": 19,
   "metadata": {},
   "outputs": [
    {
     "name": "stdout",
     "output_type": "stream",
     "text": [
      "WARNING:tensorflow:From <ipython-input-19-0c51d3ab937a>:9: calling dropout (from tensorflow.python.ops.nn_ops) with keep_prob is deprecated and will be removed in a future version.\n",
      "Instructions for updating:\n",
      "Please use `rate` instead of `keep_prob`. Rate should be set to `rate = 1 - keep_prob`.\n"
     ]
    }
   ],
   "source": [
    "# Declare a placeholder to hold the value of probability (percentage) to keep.\n",
    "# the percentage of total output channels that will be kept\n",
    "# Which nodes/channels to keep or drop out: selected randomly\n",
    "\n",
    "hold_prob = tf.placeholder(tf.float32)\n",
    "\n",
    "# Dropout: set the outputs to 0 so they will be ignored in the next layer\n",
    "\n",
    "fc_dropout_outputs = tf.nn.dropout(fc_relu_layer_1_outputs, keep_prob=hold_prob)"
   ]
  },
  {
   "cell_type": "markdown",
   "metadata": {},
   "source": [
    "### Create Final FC Layer, Compute (x.W+b), and Produce Final Outputs"
   ]
  },
  {
   "cell_type": "markdown",
   "metadata": {},
   "source": [
    "### Fully Connected Final Output Layer\n",
    "- FC_3 shape: [inputs (in_channels), outputs (out_channels)] = [1024,10]"
   ]
  },
  {
   "cell_type": "code",
   "execution_count": 20,
   "metadata": {},
   "outputs": [],
   "source": [
    "# Create the final FC layer\n",
    "# Compute x*W+b\n",
    "# Parameters:\n",
    "# ---fc_dropout_outputs: outputs from the dropout layer\n",
    "\n",
    "# Return y_pred: final predicted outputs\n",
    "\n",
    "y_pred = create_fully_connected_layer_and_compute_dotproduct_plus_bias(fc_dropout_outputs, output_size=10)"
   ]
  },
  {
   "cell_type": "markdown",
   "metadata": {},
   "source": [
    "### Define Loss Function and Calculate Softmax Cross Entropy loss"
   ]
  },
  {
   "cell_type": "code",
   "execution_count": 21,
   "metadata": {},
   "outputs": [
    {
     "name": "stdout",
     "output_type": "stream",
     "text": [
      "WARNING:tensorflow:From <ipython-input-21-d97088fb28fe>:4: softmax_cross_entropy_with_logits (from tensorflow.python.ops.nn_ops) is deprecated and will be removed in a future version.\n",
      "Instructions for updating:\n",
      "\n",
      "Future major versions of TensorFlow will allow gradients to flow\n",
      "into the labels input on backprop by default.\n",
      "\n",
      "See `tf.nn.softmax_cross_entropy_with_logits_v2`.\n",
      "\n"
     ]
    }
   ],
   "source": [
    "# Define loss function: cross entropy with logits\n",
    "# Calculate the softmax cross entropy loss\n",
    "\n",
    "softmax_cross_entropy_loss = tf.nn.softmax_cross_entropy_with_logits(labels=y_true,logits=y_pred)\n",
    "\n",
    "# Compute the mean of losses\n",
    "cross_entropy_mean = tf.reduce_mean(softmax_cross_entropy_loss)"
   ]
  },
  {
   "cell_type": "markdown",
   "metadata": {},
   "source": [
    "### Create an Optimizer to Optimize CNN Model and Set Learning Rate"
   ]
  },
  {
   "cell_type": "code",
   "execution_count": 22,
   "metadata": {},
   "outputs": [],
   "source": [
    "# Get an ADAM optimizer\n",
    "optimizer = tf.train.AdamOptimizer(learning_rate=.001)"
   ]
  },
  {
   "cell_type": "markdown",
   "metadata": {},
   "source": [
    "### Create a Trainer to Train CNN Model"
   ]
  },
  {
   "cell_type": "code",
   "execution_count": 23,
   "metadata": {},
   "outputs": [],
   "source": [
    "# Create a CNN model trainer that can train the model\n",
    "# Optimize the model by minimizing the softmax cross_entropy loss\n",
    "\n",
    "cnn_trainer = optimizer.minimize(cross_entropy_mean)"
   ]
  },
  {
   "cell_type": "markdown",
   "metadata": {},
   "source": [
    "## 3. Phase 2: Train and Test the CNN Model"
   ]
  },
  {
   "cell_type": "markdown",
   "metadata": {},
   "source": [
    "### Create a Variable Initializer to Initialize All Variables"
   ]
  },
  {
   "cell_type": "code",
   "execution_count": 24,
   "metadata": {},
   "outputs": [],
   "source": [
    "# Get a variable initializer\n",
    "\n",
    "vars_initializer = tf.global_variables_initializer()"
   ]
  },
  {
   "cell_type": "markdown",
   "metadata": {},
   "source": [
    "### Set the Steps"
   ]
  },
  {
   "cell_type": "code",
   "execution_count": 25,
   "metadata": {},
   "outputs": [],
   "source": [
    "# x: mnist.train = 50,000 images\n",
    "# Each time of training (run entire process) = 1 step\n",
    "# Each step, use on batch of inputs\n",
    "# batch size = 50 images\n",
    "#     Total number of batches: 50,000 / 50 = 1,000 batches\n",
    "\n",
    "steps = 3000"
   ]
  },
  {
   "cell_type": "markdown",
   "metadata": {},
   "source": [
    "### Run tf.Session() to Train and Test the CNN Model"
   ]
  },
  {
   "cell_type": "code",
   "execution_count": 26,
   "metadata": {
    "scrolled": true
   },
   "outputs": [
    {
     "name": "stdout",
     "output_type": "stream",
     "text": [
      "ON STEP: 0 \n",
      "ACCURACY: \n",
      "0.244\n",
      "ON STEP: 100 \n",
      "ACCURACY: \n",
      "0.9034\n",
      "ON STEP: 200 \n",
      "ACCURACY: \n",
      "0.9102\n",
      "ON STEP: 300 \n",
      "ACCURACY: \n",
      "0.9384\n",
      "ON STEP: 400 \n",
      "ACCURACY: \n",
      "0.9548\n",
      "ON STEP: 500 \n",
      "ACCURACY: \n",
      "0.9625\n",
      "ON STEP: 600 \n",
      "ACCURACY: \n",
      "0.9684\n",
      "ON STEP: 700 \n",
      "ACCURACY: \n",
      "0.9694\n",
      "ON STEP: 800 \n",
      "ACCURACY: \n",
      "0.9711\n",
      "ON STEP: 900 \n",
      "ACCURACY: \n",
      "0.9741\n",
      "ON STEP: 1000 \n",
      "ACCURACY: \n",
      "0.978\n",
      "ON STEP: 1100 \n",
      "ACCURACY: \n",
      "0.9819\n",
      "ON STEP: 1200 \n",
      "ACCURACY: \n",
      "0.9817\n",
      "ON STEP: 1300 \n",
      "ACCURACY: \n",
      "0.9786\n",
      "ON STEP: 1400 \n",
      "ACCURACY: \n",
      "0.9799\n",
      "ON STEP: 1500 \n",
      "ACCURACY: \n",
      "0.982\n",
      "ON STEP: 1600 \n",
      "ACCURACY: \n",
      "0.9817\n",
      "ON STEP: 1700 \n",
      "ACCURACY: \n",
      "0.9828\n",
      "ON STEP: 1800 \n",
      "ACCURACY: \n",
      "0.985\n",
      "ON STEP: 1900 \n",
      "ACCURACY: \n",
      "0.9866\n",
      "ON STEP: 2000 \n",
      "ACCURACY: \n",
      "0.9863\n",
      "ON STEP: 2100 \n",
      "ACCURACY: \n",
      "0.9863\n",
      "ON STEP: 2200 \n",
      "ACCURACY: \n",
      "0.9812\n",
      "ON STEP: 2300 \n",
      "ACCURACY: \n",
      "0.9863\n",
      "ON STEP: 2400 \n",
      "ACCURACY: \n",
      "0.9827\n",
      "ON STEP: 2500 \n",
      "ACCURACY: \n",
      "0.9844\n",
      "ON STEP: 2600 \n",
      "ACCURACY: \n",
      "0.9838\n",
      "ON STEP: 2700 \n",
      "ACCURACY: \n",
      "0.9852\n",
      "ON STEP: 2800 \n",
      "ACCURACY: \n",
      "0.9862\n",
      "ON STEP: 2900 \n",
      "ACCURACY: \n",
      "0.9857\n"
     ]
    }
   ],
   "source": [
    "with tf.Session() as sess:\n",
    "    # Initialize variables\n",
    "    sess.run(vars_initializer)\n",
    "    \n",
    "    for i in range(steps):\n",
    "        # batch = 50 images\n",
    "        batch_x, batch_y = mnist.train.next_batch(50)\n",
    "        \n",
    "        # Train the model\n",
    "        # Dropout keep_prob 50% will be dropped\n",
    "        sess.run(cnn_trainer, feed_dict={x: batch_x, \n",
    "                                         y_true: batch_y, \n",
    "                                         hold_prob: 0.5})\n",
    "        \n",
    "        # Test the model: at each 100th step\n",
    "        # Run this block of code for each 100 times of training, each time run a batch\n",
    "        if i % 100 == 0:\n",
    "            print('ON STEP: {}'.format(i),'\\nACCURACY: ')\n",
    "            \n",
    "            # Compare to find matches of y_pred and y_true\n",
    "            matches = tf.equal(tf.argmax(y_pred,axis=1), tf.argmax(y_true,axis=1))\n",
    "            \n",
    "            # Cast the matches from integers to tf.float32\n",
    "            # Calculate the accuracy using the mean of matches\n",
    "            acc = tf.reduce_mean(tf.cast(matches, tf.float32))\n",
    "            \n",
    "            # Test the model at each 100th step\n",
    "            # Using test dataset\n",
    "            # Dropout: NONE because of test, not training\n",
    "            test_accuracy = sess.run(acc, feed_dict={x: mnist.test.images, \n",
    "                                                     y_true: mnist.test.labels, \n",
    "                                                     hold_prob: 1.0})\n",
    "            print(test_accuracy)\n",
    "        "
   ]
  }
 ],
 "metadata": {
  "kernelspec": {
   "display_name": "Python 3",
   "language": "python",
   "name": "python3"
  },
  "language_info": {
   "codemirror_mode": {
    "name": "ipython",
    "version": 3
   },
   "file_extension": ".py",
   "mimetype": "text/x-python",
   "name": "python",
   "nbconvert_exporter": "python",
   "pygments_lexer": "ipython3",
   "version": "3.7.6"
  }
 },
 "nbformat": 4,
 "nbformat_minor": 4
}
