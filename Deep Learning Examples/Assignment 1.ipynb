{
 "cells": [
  {
   "cell_type": "markdown",
   "metadata": {},
   "source": [
    "## Assignment 1\n",
    "#### ADTA 5550 - Summer 2020 - Marissa McKee"
   ]
  },
  {
   "cell_type": "code",
   "execution_count": 1,
   "metadata": {},
   "outputs": [],
   "source": [
    "import numpy as np\n",
    "import random "
   ]
  },
  {
   "cell_type": "markdown",
   "metadata": {},
   "source": [
    "#### Question 1\n",
    "Create a vector (1D array) of size 20. All the elements are initialized with 0 (zero) except for the 8th element that is set with the value 8. "
   ]
  },
  {
   "cell_type": "code",
   "execution_count": 2,
   "metadata": {},
   "outputs": [
    {
     "name": "stdout",
     "output_type": "stream",
     "text": [
      "[0, 0, 0, 0, 0, 0, 0, 8, 0, 0, 0, 0, 0, 0, 0, 0, 0, 0, 0, 0]\n"
     ]
    }
   ],
   "source": [
    "myVector = list()\n",
    "i = 0\n",
    "for i in range(20):\n",
    "    if i == 7:\n",
    "        myVector.append(8)\n",
    "    else:\n",
    "        myVector.append(0)\n",
    "    i+=1\n",
    "\n",
    "print(myVector)"
   ]
  },
  {
   "cell_type": "markdown",
   "metadata": {},
   "source": [
    "#### Question 2\n",
    "Create a vector of size 16 with random values ranging from 0 to 63, print the vector, then sort it and print the vector again. "
   ]
  },
  {
   "cell_type": "code",
   "execution_count": 3,
   "metadata": {},
   "outputs": [
    {
     "name": "stdout",
     "output_type": "stream",
     "text": [
      "Unsorted [45, 57, 8, 11, 25, 41, 56, 52, 8, 43, 54, 35, 20, 7, 62, 26]\n",
      "Sorted [7, 8, 8, 11, 20, 25, 26, 35, 41, 43, 45, 52, 54, 56, 57, 62]\n"
     ]
    }
   ],
   "source": [
    "myVector = list()\n",
    "i = 0\n",
    "for i in range(16):\n",
    "    myVector.append(random.randint(0,63))\n",
    "    i+=1\n",
    "\n",
    "print('Unsorted',myVector)\n",
    "\n",
    "# Sort list in place\n",
    "myVector.sort()\n",
    "print('Sorted',myVector)"
   ]
  },
  {
   "cell_type": "markdown",
   "metadata": {},
   "source": [
    "#### Question 3\n",
    "Create a 5x5 matrix with values ranging from 0 to 24. "
   ]
  },
  {
   "cell_type": "code",
   "execution_count": 4,
   "metadata": {},
   "outputs": [
    {
     "name": "stdout",
     "output_type": "stream",
     "text": [
      "5x5 Matrix \n",
      " [[13 21 19 14 21]\n",
      " [ 9  0 18  1 22]\n",
      " [19 19  2  6  5]\n",
      " [15  7 12  3  0]\n",
      " [ 6  6  0  3  6]]\n"
     ]
    }
   ],
   "source": [
    "myMatrix = np.random.randint(24, size=(5,5))\n",
    "print('5x5 Matrix \\n',myMatrix)"
   ]
  },
  {
   "cell_type": "markdown",
   "metadata": {},
   "source": [
    "#### Question 4\n",
    "Create an 8x8 array with random values, then find the min and max values stored in this matrix. "
   ]
  },
  {
   "cell_type": "code",
   "execution_count": 5,
   "metadata": {},
   "outputs": [
    {
     "name": "stdout",
     "output_type": "stream",
     "text": [
      "8x8 Matrix \n",
      " [[0.88938625 0.1326964  0.34184107 0.86736479 0.78995697 0.70226321\n",
      "  0.87327762 0.23638535]\n",
      " [0.72569356 0.47790422 0.59614686 0.19199283 0.98123452 0.26164304\n",
      "  0.41174445 0.78211699]\n",
      " [0.9815249  0.05905456 0.300895   0.07030679 0.91136088 0.66748258\n",
      "  0.94271804 0.59305075]\n",
      " [0.1242051  0.41720103 0.93161603 0.9383042  0.51516923 0.63619233\n",
      "  0.31631622 0.29383969]\n",
      " [0.16315623 0.43046077 0.19910823 0.64064992 0.07295822 0.12148029\n",
      "  0.79512142 0.62254742]\n",
      " [0.87969036 0.92518444 0.77100493 0.18171674 0.40182061 0.07214124\n",
      "  0.89344624 0.43573878]\n",
      " [0.86457015 0.73055121 0.93465383 0.13303595 0.39191262 0.02811492\n",
      "  0.64457638 0.44677947]\n",
      " [0.60528225 0.25662515 0.036221   0.8600633  0.48775266 0.40055249\n",
      "  0.17100337 0.14687058]]\n",
      "Max Value \n",
      " 0.9815248983324674 \n",
      "Min Value \n",
      " 0.028114917472079837\n"
     ]
    }
   ],
   "source": [
    "myMatrix = np.random.random((8,8))\n",
    "print('8x8 Matrix \\n',myMatrix)\n",
    "print('Max Value \\n',myMatrix.max(),'\\nMin Value \\n',myMatrix.min())"
   ]
  },
  {
   "cell_type": "markdown",
   "metadata": {},
   "source": [
    "#### Question 5\n",
    "Create a vector of size 32 that is initialized with random values inside the range (0, 99) and then find the mean of all the initial values."
   ]
  },
  {
   "cell_type": "code",
   "execution_count": 6,
   "metadata": {},
   "outputs": [
    {
     "name": "stdout",
     "output_type": "stream",
     "text": [
      "Random Vector\n",
      " [65, 76, 11, 50, 27, 77, 9, 10, 8, 45, 70, 51, 4, 1, 48, 64, 71, 29, 49, 28, 72, 93, 72, 25, 94, 7, 69, 27, 75, 28, 39, 14] \n",
      "Vector Mean\n",
      " 44.0\n"
     ]
    }
   ],
   "source": [
    "myVector = list()\n",
    "i = 0\n",
    "for i in range(32):\n",
    "    myVector.append(random.randint(0,99))\n",
    "    i+=1\n",
    "\n",
    "print('Random Vector\\n',myVector,'\\nVector Mean\\n',np.mean(myVector))"
   ]
  }
 ],
 "metadata": {
  "kernelspec": {
   "display_name": "Python 3",
   "language": "python",
   "name": "python3"
  },
  "language_info": {
   "codemirror_mode": {
    "name": "ipython",
    "version": 3
   },
   "file_extension": ".py",
   "mimetype": "text/x-python",
   "name": "python",
   "nbconvert_exporter": "python",
   "pygments_lexer": "ipython3",
   "version": "3.7.3"
  }
 },
 "nbformat": 4,
 "nbformat_minor": 2
}
