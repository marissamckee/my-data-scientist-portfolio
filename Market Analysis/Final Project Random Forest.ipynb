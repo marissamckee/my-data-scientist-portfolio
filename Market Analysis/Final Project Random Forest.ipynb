{
 "cells": [
  {
   "cell_type": "markdown",
   "metadata": {},
   "source": [
    "### ADTA 5120 Final Project Random Forest\n",
    "Marissa McKee"
   ]
  },
  {
   "cell_type": "markdown",
   "metadata": {},
   "source": [
    "This project is based on the data set called ERIMdata.xlsx that includes about 3,000 households in two midwestern cities in the United States. The data contain demographic information such as household incomes, number of household members, education levels of the heads of households as well as information on the purchases of several retail products such as frozen dinners and yogurt. The data were collected between 1985 and 1988 by a marketing research firm, AC Nielsen. \n",
    "\n",
    "\n",
    "Your assignment is first to propose a business analytics plan based on the CRISP-DM framework and identify and complete the appropriate tasks for each of the six CRISP-DM phases. The project deliverables include a final written report and an oral presentation that should follow the outline shown below. "
   ]
  },
  {
   "cell_type": "code",
   "execution_count": 1,
   "metadata": {},
   "outputs": [],
   "source": [
    "import pandas as pd\n",
    "from sklearn.model_selection import train_test_split\n",
    "from sklearn.ensemble import RandomForestClassifier\n",
    "from sklearn import metrics\n",
    "import numpy as np\n",
    "import matplotlib.pyplot as plt\n",
    "import seaborn as sns\n",
    "%matplotlib inline"
   ]
  },
  {
   "cell_type": "code",
   "execution_count": 2,
   "metadata": {},
   "outputs": [
    {
     "data": {
      "text/html": [
       "<div>\n",
       "<style scoped>\n",
       "    .dataframe tbody tr th:only-of-type {\n",
       "        vertical-align: middle;\n",
       "    }\n",
       "\n",
       "    .dataframe tbody tr th {\n",
       "        vertical-align: top;\n",
       "    }\n",
       "\n",
       "    .dataframe thead th {\n",
       "        text-align: right;\n",
       "    }\n",
       "</style>\n",
       "<table border=\"1\" class=\"dataframe\">\n",
       "  <thead>\n",
       "    <tr style=\"text-align: right;\">\n",
       "      <th></th>\n",
       "      <th>HH_ID</th>\n",
       "      <th>ResType</th>\n",
       "      <th>ResStatus</th>\n",
       "      <th>HHInc</th>\n",
       "      <th>HHNbr</th>\n",
       "      <th>MWrkHrs</th>\n",
       "      <th>MEdu</th>\n",
       "      <th>FWrkHrs</th>\n",
       "      <th>FEdu</th>\n",
       "      <th>FBirth</th>\n",
       "      <th>...</th>\n",
       "      <th>ResStatus2</th>\n",
       "      <th>MUndergrad</th>\n",
       "      <th>MGrad</th>\n",
       "      <th>FUndergrad</th>\n",
       "      <th>FGrad</th>\n",
       "      <th>Married</th>\n",
       "      <th>BuyYog</th>\n",
       "      <th>BuyDin</th>\n",
       "      <th>FAge</th>\n",
       "      <th>MAge</th>\n",
       "    </tr>\n",
       "  </thead>\n",
       "  <tbody>\n",
       "    <tr>\n",
       "      <th>0</th>\n",
       "      <td>1100032</td>\n",
       "      <td>3</td>\n",
       "      <td>1</td>\n",
       "      <td>11</td>\n",
       "      <td>2</td>\n",
       "      <td>40</td>\n",
       "      <td>8</td>\n",
       "      <td>40</td>\n",
       "      <td>9</td>\n",
       "      <td>1938</td>\n",
       "      <td>...</td>\n",
       "      <td>0</td>\n",
       "      <td>0</td>\n",
       "      <td>0</td>\n",
       "      <td>1</td>\n",
       "      <td>0</td>\n",
       "      <td>1</td>\n",
       "      <td>1</td>\n",
       "      <td>0</td>\n",
       "      <td>50</td>\n",
       "      <td>53</td>\n",
       "    </tr>\n",
       "    <tr>\n",
       "      <th>1</th>\n",
       "      <td>1100107</td>\n",
       "      <td>1</td>\n",
       "      <td>2</td>\n",
       "      <td>3</td>\n",
       "      <td>3</td>\n",
       "      <td>0</td>\n",
       "      <td>0</td>\n",
       "      <td>40</td>\n",
       "      <td>7</td>\n",
       "      <td>1942</td>\n",
       "      <td>...</td>\n",
       "      <td>1</td>\n",
       "      <td>0</td>\n",
       "      <td>0</td>\n",
       "      <td>0</td>\n",
       "      <td>0</td>\n",
       "      <td>1</td>\n",
       "      <td>0</td>\n",
       "      <td>1</td>\n",
       "      <td>46</td>\n",
       "      <td>46</td>\n",
       "    </tr>\n",
       "    <tr>\n",
       "      <th>2</th>\n",
       "      <td>1100131</td>\n",
       "      <td>3</td>\n",
       "      <td>1</td>\n",
       "      <td>9</td>\n",
       "      <td>4</td>\n",
       "      <td>40</td>\n",
       "      <td>9</td>\n",
       "      <td>40</td>\n",
       "      <td>8</td>\n",
       "      <td>1949</td>\n",
       "      <td>...</td>\n",
       "      <td>0</td>\n",
       "      <td>1</td>\n",
       "      <td>0</td>\n",
       "      <td>0</td>\n",
       "      <td>0</td>\n",
       "      <td>1</td>\n",
       "      <td>1</td>\n",
       "      <td>1</td>\n",
       "      <td>39</td>\n",
       "      <td>39</td>\n",
       "    </tr>\n",
       "    <tr>\n",
       "      <th>3</th>\n",
       "      <td>1100172</td>\n",
       "      <td>1</td>\n",
       "      <td>2</td>\n",
       "      <td>2</td>\n",
       "      <td>1</td>\n",
       "      <td>0</td>\n",
       "      <td>0</td>\n",
       "      <td>0</td>\n",
       "      <td>9</td>\n",
       "      <td>1921</td>\n",
       "      <td>...</td>\n",
       "      <td>1</td>\n",
       "      <td>0</td>\n",
       "      <td>0</td>\n",
       "      <td>1</td>\n",
       "      <td>0</td>\n",
       "      <td>1</td>\n",
       "      <td>1</td>\n",
       "      <td>0</td>\n",
       "      <td>67</td>\n",
       "      <td>67</td>\n",
       "    </tr>\n",
       "    <tr>\n",
       "      <th>4</th>\n",
       "      <td>1100180</td>\n",
       "      <td>3</td>\n",
       "      <td>1</td>\n",
       "      <td>8</td>\n",
       "      <td>4</td>\n",
       "      <td>40</td>\n",
       "      <td>9</td>\n",
       "      <td>38</td>\n",
       "      <td>8</td>\n",
       "      <td>1946</td>\n",
       "      <td>...</td>\n",
       "      <td>0</td>\n",
       "      <td>1</td>\n",
       "      <td>0</td>\n",
       "      <td>0</td>\n",
       "      <td>0</td>\n",
       "      <td>1</td>\n",
       "      <td>1</td>\n",
       "      <td>0</td>\n",
       "      <td>42</td>\n",
       "      <td>51</td>\n",
       "    </tr>\n",
       "  </tbody>\n",
       "</table>\n",
       "<p>5 rows × 47 columns</p>\n",
       "</div>"
      ],
      "text/plain": [
       "     HH_ID  ResType  ResStatus  HHInc  HHNbr  MWrkHrs  MEdu  FWrkHrs  FEdu  \\\n",
       "0  1100032        3          1     11      2       40     8       40     9   \n",
       "1  1100107        1          2      3      3        0     0       40     7   \n",
       "2  1100131        3          1      9      4       40     9       40     8   \n",
       "3  1100172        1          2      2      1        0     0        0     9   \n",
       "4  1100180        3          1      8      4       40     9       38     8   \n",
       "\n",
       "   FBirth  ...  ResStatus2  MUndergrad  MGrad  FUndergrad  FGrad  Married  \\\n",
       "0    1938  ...           0           0      0           1      0        1   \n",
       "1    1942  ...           1           0      0           0      0        1   \n",
       "2    1949  ...           0           1      0           0      0        1   \n",
       "3    1921  ...           1           0      0           1      0        1   \n",
       "4    1946  ...           0           1      0           0      0        1   \n",
       "\n",
       "   BuyYog  BuyDin  FAge  MAge  \n",
       "0       1       0    50    53  \n",
       "1       0       1    46    46  \n",
       "2       1       1    39    39  \n",
       "3       1       0    67    67  \n",
       "4       1       0    42    51  \n",
       "\n",
       "[5 rows x 47 columns]"
      ]
     },
     "execution_count": 2,
     "metadata": {},
     "output_type": "execute_result"
    }
   ],
   "source": [
    "# Import ERIMDataClean.csv\n",
    "file = 'ERIMDataClean.csv'\n",
    "df = pd.read_csv(file, sep = ',')\n",
    "df.head()"
   ]
  },
  {
   "cell_type": "code",
   "execution_count": 3,
   "metadata": {},
   "outputs": [
    {
     "data": {
      "text/plain": [
       "Index(['HH_ID', 'ResType', 'ResStatus', 'HHInc', 'HHNbr', 'MWrkHrs', 'MEdu',\n",
       "       'FWrkHrs', 'FEdu', 'FBirth', 'F_Rel', 'MBirth', 'M_Rel', 'Cable',\n",
       "       'Cats', 'Dogs', 'YogExp', 'DinExp', 'HHIn1', 'HHIn2', 'HHIn3', 'HHIn4',\n",
       "       'HHIn5', 'HHIn6', 'HHIn7', 'HHIn8', 'HHIn9', 'HHIn10', 'HHIn11',\n",
       "       'HHIn12', 'HHIn13', 'ResType1', 'ResType2', 'ResType3', 'ResType4',\n",
       "       'ResType5', 'ResStatus1', 'ResStatus2', 'MUndergrad', 'MGrad',\n",
       "       'FUndergrad', 'FGrad', 'Married', 'BuyYog', 'BuyDin', 'FAge', 'MAge'],\n",
       "      dtype='object')"
      ]
     },
     "execution_count": 3,
     "metadata": {},
     "output_type": "execute_result"
    }
   ],
   "source": [
    "# View columns\n",
    "df.columns"
   ]
  },
  {
   "cell_type": "code",
   "execution_count": 4,
   "metadata": {},
   "outputs": [],
   "source": [
    "# Establish features\n",
    "features = ['HHNbr', 'MWrkHrs', 'FWrkHrs', 'Cable',\n",
    "       'Cats', 'Dogs', 'DinExp', 'HHIn1', 'HHIn2', 'HHIn3', 'HHIn4',\n",
    "       'HHIn5', 'HHIn6', 'HHIn7', 'HHIn8', 'HHIn9', 'HHIn10', 'HHIn11',\n",
    "       'HHIn12', 'HHIn13', 'ResType1', 'ResType2', 'ResType3', 'ResType4',\n",
    "       'ResType5', 'ResStatus1', 'ResStatus2', 'MUndergrad', 'MGrad',\n",
    "       'FUndergrad', 'FGrad', 'Married', 'FAge', 'MAge']"
   ]
  },
  {
   "cell_type": "code",
   "execution_count": 5,
   "metadata": {},
   "outputs": [],
   "source": [
    "# Set X and y values\n",
    "X=df[['HHNbr', 'MWrkHrs', 'FWrkHrs', 'Cable',\n",
    "       'Cats', 'Dogs', 'DinExp', 'HHIn1', 'HHIn2', 'HHIn3', 'HHIn4',\n",
    "       'HHIn5', 'HHIn6', 'HHIn7', 'HHIn8', 'HHIn9', 'HHIn10', 'HHIn11',\n",
    "       'HHIn12', 'HHIn13', 'ResType1', 'ResType2', 'ResType3', 'ResType4',\n",
    "       'ResType5', 'ResStatus1', 'ResStatus2', 'MUndergrad', 'MGrad',\n",
    "       'FUndergrad', 'FGrad', 'Married', 'FAge', 'MAge']]  # Features\n",
    "y=df['BuyYog']  # Labels\n",
    "\n",
    "# Split dataset into training set and test set\n",
    "X_train, X_test, y_train, y_test = train_test_split(X, y, test_size=0.25) "
   ]
  },
  {
   "cell_type": "code",
   "execution_count": 6,
   "metadata": {},
   "outputs": [],
   "source": [
    "#Create a Gaussian Classifier\n",
    "clf=RandomForestClassifier(n_estimators=100)\n",
    "\n",
    "#Train the model using the training sets y_pred=clf.predict(X_test)\n",
    "clf.fit(X_train,y_train)\n",
    "y_pred=clf.predict(X_test)"
   ]
  },
  {
   "cell_type": "code",
   "execution_count": 7,
   "metadata": {},
   "outputs": [
    {
     "name": "stdout",
     "output_type": "stream",
     "text": [
      "Accuracy: 0.8095238095238095\n"
     ]
    }
   ],
   "source": [
    "# Model Accuracy, how often is the classifier correct?\n",
    "print(\"Accuracy:\",metrics.accuracy_score(y_test, y_pred))"
   ]
  },
  {
   "cell_type": "code",
   "execution_count": 8,
   "metadata": {},
   "outputs": [
    {
     "data": {
      "text/plain": [
       "array([1], dtype=int64)"
      ]
     },
     "execution_count": 8,
     "metadata": {},
     "output_type": "execute_result"
    }
   ],
   "source": [
    "# Predict the outcome of a household buying yogurt by setting the values of the features below: \n",
    "#     'HHNbr', 'MWrkHrs', 'FWrkHrs', 'Cable',\n",
    "#     'Cats', 'Dogs', 'DinExp', 'HHIn1', 'HHIn2', 'HHIn3', 'HHIn4',\n",
    "#     'HHIn5', 'HHIn6', 'HHIn7', 'HHIn8', 'HHIn9', 'HHIn10', 'HHIn11',\n",
    "#     'HHIn12', 'HHIn13', 'ResType1', 'ResType2', 'ResType3', 'ResType4',\n",
    "#     'ResType5', 'ResStatus1', 'ResStatus2', 'MUndergrad', 'MGrad',\n",
    "#     'FUndergrad', 'FGrad', 'Married', 'FAge', 'MAge'\n",
    "\n",
    "# Outcome prediction \n",
    "#     1 = buy yogurt \n",
    "#     0 = did not buy yogurt\n",
    "\n",
    "clf.predict([[3, 40, 40, 1, \n",
    "              1, 0, 0, 0, 0, 0, 0,\n",
    "              0, 0, 0, 0, 0, 0, 0, \n",
    "              0, 1, 1, 0, 0, 0, \n",
    "              0, 1, 0, 1, 0, \n",
    "              1, 0, 1, 50, 50]])"
   ]
  },
  {
   "cell_type": "code",
   "execution_count": 9,
   "metadata": {},
   "outputs": [
    {
     "data": {
      "text/plain": [
       "RandomForestClassifier(bootstrap=True, class_weight=None, criterion='gini',\n",
       "                       max_depth=None, max_features='auto', max_leaf_nodes=None,\n",
       "                       min_impurity_decrease=0.0, min_impurity_split=None,\n",
       "                       min_samples_leaf=1, min_samples_split=2,\n",
       "                       min_weight_fraction_leaf=0.0, n_estimators=100,\n",
       "                       n_jobs=None, oob_score=False, random_state=None,\n",
       "                       verbose=0, warm_start=False)"
      ]
     },
     "execution_count": 9,
     "metadata": {},
     "output_type": "execute_result"
    }
   ],
   "source": [
    "#Create a Gaussian Classifier\n",
    "clf=RandomForestClassifier(n_estimators=100)\n",
    "\n",
    "#Train the model using the training sets y_pred=clf.predict(X_test)\n",
    "clf.fit(X_train,y_train)"
   ]
  },
  {
   "cell_type": "code",
   "execution_count": 10,
   "metadata": {},
   "outputs": [
    {
     "data": {
      "text/plain": [
       "MAge          0.159355\n",
       "FAge          0.155771\n",
       "DinExp        0.113414\n",
       "FWrkHrs       0.080390\n",
       "MWrkHrs       0.066645\n",
       "HHNbr         0.058123\n",
       "Dogs          0.047181\n",
       "Cats          0.032915\n",
       "Cable         0.031685\n",
       "HHIn3         0.019850\n",
       "HHIn4         0.017542\n",
       "HHIn5         0.016277\n",
       "FUndergrad    0.015713\n",
       "HHIn6         0.014980\n",
       "MUndergrad    0.012405\n",
       "HHIn7         0.012375\n",
       "ResStatus2    0.011965\n",
       "ResStatus1    0.011886\n",
       "MGrad         0.011883\n",
       "FGrad         0.011543\n",
       "HHIn8         0.011461\n",
       "ResType3      0.011334\n",
       "HHIn2         0.010620\n",
       "Married       0.010526\n",
       "HHIn9         0.007549\n",
       "HHIn10        0.007443\n",
       "ResType1      0.007164\n",
       "HHIn1         0.006738\n",
       "HHIn11        0.005810\n",
       "ResType4      0.005558\n",
       "ResType5      0.003985\n",
       "ResType2      0.003978\n",
       "HHIn12        0.003414\n",
       "HHIn13        0.002522\n",
       "dtype: float64"
      ]
     },
     "execution_count": 10,
     "metadata": {},
     "output_type": "execute_result"
    }
   ],
   "source": [
    "# Feature importance to predicting the dependent variable\n",
    "feature_imp = pd.Series(clf.feature_importances_,index=features).sort_values(ascending=False)\n",
    "feature_imp"
   ]
  },
  {
   "cell_type": "code",
   "execution_count": 11,
   "metadata": {},
   "outputs": [
    {
     "name": "stderr",
     "output_type": "stream",
     "text": [
      "No handles with labels found to put in legend.\n"
     ]
    },
    {
     "data": {
      "image/png": "[encoded data removed]",
      "text/plain": [
       "<Figure size 1080x504 with 1 Axes>"
      ]
     },
     "metadata": {
      "needs_background": "light"
     },
     "output_type": "display_data"
    }
   ],
   "source": [
    "# Creating a bar plot\n",
    "plt.figure(figsize=(15,7))\n",
    "sns.barplot(x=feature_imp, y=feature_imp.index)\n",
    "\n",
    "\n",
    "# Add labels to your graph\n",
    "plt.xlabel('Feature Importance Score')\n",
    "plt.ylabel('Features')\n",
    "plt.title(\"Visualizing Important Features\")\n",
    "plt.legend()\n",
    "plt.show()"
   ]
  },
  {
   "cell_type": "code",
   "execution_count": 12,
   "metadata": {},
   "outputs": [],
   "source": [
    "# Split dataset into features and labels\n",
    "X=df[['MAge','FAge','DinExp','FWrkHrs','MWrkHrs',\n",
    "        'HHNbr','Dogs','Cats','Cable','HHIn3',\n",
    "         'HHIn5','HHIn4','FUndergrad','HHIn7',\n",
    "         'MUndergrad','ResType3','ResStatus1','Married']] \n",
    "y=df['BuyYog']                                       \n",
    "# Split dataset into training set and test set\n",
    "X_train, X_test, y_train, y_test = train_test_split(X, y, test_size=0.25, random_state=5) "
   ]
  },
  {
   "cell_type": "code",
   "execution_count": 13,
   "metadata": {},
   "outputs": [],
   "source": [
    "#Create a Gaussian Classifier\n",
    "clf=RandomForestClassifier(n_estimators=100)\n",
    "\n",
    "#Train the model using the training sets y_pred=clf.predict(X_test)\n",
    "clf.fit(X_train,y_train)\n",
    "\n",
    "# prediction on test set\n",
    "y_pred=clf.predict(X_test)"
   ]
  },
  {
   "cell_type": "code",
   "execution_count": 14,
   "metadata": {},
   "outputs": [
    {
     "name": "stdout",
     "output_type": "stream",
     "text": [
      "Accuracy: 0.8145363408521303\n"
     ]
    }
   ],
   "source": [
    "# Model Accuracy, how often is the classifier correct?\n",
    "print(\"Accuracy:\",metrics.accuracy_score(y_test, y_pred))"
   ]
  },
  {
   "cell_type": "code",
   "execution_count": 15,
   "metadata": {},
   "outputs": [
    {
     "data": {
      "text/plain": [
       "array([1], dtype=int64)"
      ]
     },
     "execution_count": 15,
     "metadata": {},
     "output_type": "execute_result"
    }
   ],
   "source": [
    "# Predict the outcome of a household buying yogurt by setting the values of the features below: \n",
    "#     'MAge','FAge','DinExp','FWrkHrs','MWrkHrs',\n",
    "#     'HHNbr','Dogs','Cats','Cable','HHIn3',\n",
    "#     'HHIn5','HHIn4','FUndergrad','HHIn7',\n",
    "#     'MUndergrad','ResType3','ResStatus1','Married'\n",
    "\n",
    "# Outcome prediction \n",
    "#     1 = buy yogurt \n",
    "#     0 = did not buy yogurt\n",
    "\n",
    "clf.predict([[45, 45, 0, 40, 40, \n",
    "              1, 0, 0, 0, 0, \n",
    "              0, 1, 1, 0,\n",
    "              1, 1, 1, 1]])"
   ]
  }
 ],
 "metadata": {
  "kernelspec": {
   "display_name": "Python 3",
   "language": "python",
   "name": "python3"
  },
  "language_info": {
   "codemirror_mode": {
    "name": "ipython",
    "version": 3
   },
   "file_extension": ".py",
   "mimetype": "text/x-python",
   "name": "python",
   "nbconvert_exporter": "python",
   "pygments_lexer": "ipython3",
   "version": "3.7.3"
  }
 },
 "nbformat": 4,
 "nbformat_minor": 2
}
