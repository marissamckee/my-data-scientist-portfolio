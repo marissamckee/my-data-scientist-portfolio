{
 "cells": [
  {
   "cell_type": "markdown",
   "metadata": {},
   "source": [
    "### ADTA 5120 Final Project Logistic Regression\n",
    "Marissa McKee"
   ]
  },
  {
   "cell_type": "markdown",
   "metadata": {},
   "source": [
    "This project is based on the data set called ERIMdata.xlsx that includes about 3,000 households in two midwestern cities in the United States. The data contain demographic information such as household incomes, number of household members, education levels of the heads of households as well as information on the purchases of several retail products such as frozen dinners and yogurt. The data were collected between 1985 and 1988 by a marketing research firm, AC Nielsen. \n",
    "\n",
    "\n",
    "Your assignment is first to propose a business analytics plan based on the CRISP-DM framework and identify and complete the appropriate tasks for each of the six CRISP-DM phases. The project deliverables include a final written report and an oral presentation that should follow the outline shown below. "
   ]
  },
  {
   "cell_type": "code",
   "execution_count": 40,
   "metadata": {},
   "outputs": [],
   "source": [
    "import pandas as pd\n",
    "from sklearn.model_selection import train_test_split\n",
    "from sklearn.linear_model import LogisticRegression\n",
    "from sklearn import metrics\n",
    "import numpy as np\n",
    "import matplotlib.pyplot as plt\n",
    "import seaborn as sns\n",
    "%matplotlib inline"
   ]
  },
  {
   "cell_type": "code",
   "execution_count": 46,
   "metadata": {},
   "outputs": [
    {
     "data": {
      "text/html": [
       "<div>\n",
       "<style scoped>\n",
       "    .dataframe tbody tr th:only-of-type {\n",
       "        vertical-align: middle;\n",
       "    }\n",
       "\n",
       "    .dataframe tbody tr th {\n",
       "        vertical-align: top;\n",
       "    }\n",
       "\n",
       "    .dataframe thead th {\n",
       "        text-align: right;\n",
       "    }\n",
       "</style>\n",
       "<table border=\"1\" class=\"dataframe\">\n",
       "  <thead>\n",
       "    <tr style=\"text-align: right;\">\n",
       "      <th></th>\n",
       "      <th>HH_ID</th>\n",
       "      <th>ResType</th>\n",
       "      <th>ResStatus</th>\n",
       "      <th>HHInc</th>\n",
       "      <th>HHNbr</th>\n",
       "      <th>MWrkHrs</th>\n",
       "      <th>MEdu</th>\n",
       "      <th>FWrkHrs</th>\n",
       "      <th>FEdu</th>\n",
       "      <th>FBirth</th>\n",
       "      <th>...</th>\n",
       "      <th>ResStatus2</th>\n",
       "      <th>MUndergrad</th>\n",
       "      <th>MGrad</th>\n",
       "      <th>FUndergrad</th>\n",
       "      <th>FGrad</th>\n",
       "      <th>Married</th>\n",
       "      <th>BuyYog</th>\n",
       "      <th>BuyDin</th>\n",
       "      <th>FAge</th>\n",
       "      <th>MAge</th>\n",
       "    </tr>\n",
       "  </thead>\n",
       "  <tbody>\n",
       "    <tr>\n",
       "      <th>0</th>\n",
       "      <td>1100032</td>\n",
       "      <td>3</td>\n",
       "      <td>1</td>\n",
       "      <td>11</td>\n",
       "      <td>2</td>\n",
       "      <td>40</td>\n",
       "      <td>8</td>\n",
       "      <td>40</td>\n",
       "      <td>9</td>\n",
       "      <td>1938</td>\n",
       "      <td>...</td>\n",
       "      <td>0</td>\n",
       "      <td>0</td>\n",
       "      <td>0</td>\n",
       "      <td>1</td>\n",
       "      <td>0</td>\n",
       "      <td>1</td>\n",
       "      <td>1</td>\n",
       "      <td>0</td>\n",
       "      <td>50</td>\n",
       "      <td>53</td>\n",
       "    </tr>\n",
       "    <tr>\n",
       "      <th>1</th>\n",
       "      <td>1100107</td>\n",
       "      <td>1</td>\n",
       "      <td>2</td>\n",
       "      <td>3</td>\n",
       "      <td>3</td>\n",
       "      <td>0</td>\n",
       "      <td>0</td>\n",
       "      <td>40</td>\n",
       "      <td>7</td>\n",
       "      <td>1942</td>\n",
       "      <td>...</td>\n",
       "      <td>1</td>\n",
       "      <td>0</td>\n",
       "      <td>0</td>\n",
       "      <td>0</td>\n",
       "      <td>0</td>\n",
       "      <td>1</td>\n",
       "      <td>0</td>\n",
       "      <td>1</td>\n",
       "      <td>46</td>\n",
       "      <td>46</td>\n",
       "    </tr>\n",
       "    <tr>\n",
       "      <th>2</th>\n",
       "      <td>1100131</td>\n",
       "      <td>3</td>\n",
       "      <td>1</td>\n",
       "      <td>9</td>\n",
       "      <td>4</td>\n",
       "      <td>40</td>\n",
       "      <td>9</td>\n",
       "      <td>40</td>\n",
       "      <td>8</td>\n",
       "      <td>1949</td>\n",
       "      <td>...</td>\n",
       "      <td>0</td>\n",
       "      <td>1</td>\n",
       "      <td>0</td>\n",
       "      <td>0</td>\n",
       "      <td>0</td>\n",
       "      <td>1</td>\n",
       "      <td>1</td>\n",
       "      <td>1</td>\n",
       "      <td>39</td>\n",
       "      <td>39</td>\n",
       "    </tr>\n",
       "    <tr>\n",
       "      <th>3</th>\n",
       "      <td>1100172</td>\n",
       "      <td>1</td>\n",
       "      <td>2</td>\n",
       "      <td>2</td>\n",
       "      <td>1</td>\n",
       "      <td>0</td>\n",
       "      <td>0</td>\n",
       "      <td>0</td>\n",
       "      <td>9</td>\n",
       "      <td>1921</td>\n",
       "      <td>...</td>\n",
       "      <td>1</td>\n",
       "      <td>0</td>\n",
       "      <td>0</td>\n",
       "      <td>1</td>\n",
       "      <td>0</td>\n",
       "      <td>1</td>\n",
       "      <td>1</td>\n",
       "      <td>0</td>\n",
       "      <td>67</td>\n",
       "      <td>67</td>\n",
       "    </tr>\n",
       "    <tr>\n",
       "      <th>4</th>\n",
       "      <td>1100180</td>\n",
       "      <td>3</td>\n",
       "      <td>1</td>\n",
       "      <td>8</td>\n",
       "      <td>4</td>\n",
       "      <td>40</td>\n",
       "      <td>9</td>\n",
       "      <td>38</td>\n",
       "      <td>8</td>\n",
       "      <td>1946</td>\n",
       "      <td>...</td>\n",
       "      <td>0</td>\n",
       "      <td>1</td>\n",
       "      <td>0</td>\n",
       "      <td>0</td>\n",
       "      <td>0</td>\n",
       "      <td>1</td>\n",
       "      <td>1</td>\n",
       "      <td>0</td>\n",
       "      <td>42</td>\n",
       "      <td>51</td>\n",
       "    </tr>\n",
       "  </tbody>\n",
       "</table>\n",
       "<p>5 rows × 47 columns</p>\n",
       "</div>"
      ],
      "text/plain": [
       "     HH_ID  ResType  ResStatus  HHInc  HHNbr  MWrkHrs  MEdu  FWrkHrs  FEdu  \\\n",
       "0  1100032        3          1     11      2       40     8       40     9   \n",
       "1  1100107        1          2      3      3        0     0       40     7   \n",
       "2  1100131        3          1      9      4       40     9       40     8   \n",
       "3  1100172        1          2      2      1        0     0        0     9   \n",
       "4  1100180        3          1      8      4       40     9       38     8   \n",
       "\n",
       "   FBirth  ...  ResStatus2  MUndergrad  MGrad  FUndergrad  FGrad  Married  \\\n",
       "0    1938  ...           0           0      0           1      0        1   \n",
       "1    1942  ...           1           0      0           0      0        1   \n",
       "2    1949  ...           0           1      0           0      0        1   \n",
       "3    1921  ...           1           0      0           1      0        1   \n",
       "4    1946  ...           0           1      0           0      0        1   \n",
       "\n",
       "   BuyYog  BuyDin  FAge  MAge  \n",
       "0       1       0    50    53  \n",
       "1       0       1    46    46  \n",
       "2       1       1    39    39  \n",
       "3       1       0    67    67  \n",
       "4       1       0    42    51  \n",
       "\n",
       "[5 rows x 47 columns]"
      ]
     },
     "execution_count": 46,
     "metadata": {},
     "output_type": "execute_result"
    }
   ],
   "source": [
    "# Import ERIMDataClean.csv\n",
    "file = 'ERIMDataClean.csv'\n",
    "df = pd.read_csv(file, sep = ',')\n",
    "df.head()"
   ]
  },
  {
   "cell_type": "code",
   "execution_count": 32,
   "metadata": {},
   "outputs": [],
   "source": [
    "col_names = ['HH_ID', 'ResType', 'ResStatus', 'HHInc', 'HHNbr', 'MWrkHrs', 'MEdu',\n",
    "       'FWrkHrs', 'FEdu', 'FBirth', 'F_Rel', 'MBirth', 'M_Rel', 'Cable',\n",
    "       'Cats', 'Dogs', 'YogExp', 'DinExp', 'HHIn1', 'HHIn2', 'HHIn3', 'HHIn4',\n",
    "       'HHIn5', 'HHIn6', 'HHIn7', 'HHIn8', 'HHIn9', 'HHIn10', 'HHIn11',\n",
    "       'HHIn12', 'HHIn13', 'ResType1', 'ResType2', 'ResType3', 'ResType4',\n",
    "       'ResType5', 'ResStatus1', 'ResStatus2', 'MUndergrad', 'MGrad',\n",
    "       'FUndergrad', 'FGrad', 'Married', 'BuyYog', 'BuyDin', 'FAge', 'MAge']"
   ]
  },
  {
   "cell_type": "code",
   "execution_count": 33,
   "metadata": {},
   "outputs": [
    {
     "data": {
      "text/plain": [
       "HH_ID           int64\n",
       "ResType         int64\n",
       "ResStatus       int64\n",
       "HHInc           int64\n",
       "HHNbr           int64\n",
       "MWrkHrs         int64\n",
       "MEdu            int64\n",
       "FWrkHrs         int64\n",
       "FEdu            int64\n",
       "FBirth          int64\n",
       "F_Rel           int64\n",
       "MBirth          int64\n",
       "M_Rel           int64\n",
       "Cable           int64\n",
       "Cats            int64\n",
       "Dogs            int64\n",
       "YogExp        float64\n",
       "DinExp        float64\n",
       "HHIn1           int64\n",
       "HHIn2           int64\n",
       "HHIn3           int64\n",
       "HHIn4           int64\n",
       "HHIn5           int64\n",
       "HHIn6           int64\n",
       "HHIn7           int64\n",
       "HHIn8           int64\n",
       "HHIn9           int64\n",
       "HHIn10          int64\n",
       "HHIn11          int64\n",
       "HHIn12          int64\n",
       "HHIn13          int64\n",
       "ResType1        int64\n",
       "ResType2        int64\n",
       "ResType3        int64\n",
       "ResType4        int64\n",
       "ResType5        int64\n",
       "ResStatus1      int64\n",
       "ResStatus2      int64\n",
       "MUndergrad      int64\n",
       "MGrad           int64\n",
       "FUndergrad      int64\n",
       "FGrad           int64\n",
       "Married         int64\n",
       "BuyYog          int64\n",
       "BuyDin          int64\n",
       "FAge            int64\n",
       "MAge            int64\n",
       "dtype: object"
      ]
     },
     "execution_count": 33,
     "metadata": {},
     "output_type": "execute_result"
    }
   ],
   "source": [
    "# Data types come in as objects\n",
    "df = df.apply(pd.to_numeric) \n",
    "\n",
    "\n",
    "# Check data types\n",
    "df.dtypes"
   ]
  },
  {
   "cell_type": "code",
   "execution_count": 34,
   "metadata": {},
   "outputs": [],
   "source": [
    "#split dataset in features and target variable\n",
    "feature_cols = ['HH_ID', 'ResType', 'ResStatus', 'HHInc', 'HHNbr', 'MWrkHrs', 'MEdu',\n",
    "       'FWrkHrs', 'FEdu', 'FBirth', 'F_Rel', 'MBirth', 'M_Rel', 'Cable',\n",
    "       'Cats', 'Dogs', 'YogExp', 'DinExp', 'HHIn1', 'HHIn2', 'HHIn3', 'HHIn4',\n",
    "       'HHIn5', 'HHIn6', 'HHIn7', 'HHIn8', 'HHIn9', 'HHIn10', 'HHIn11',\n",
    "       'HHIn12', 'HHIn13', 'ResType1', 'ResType2', 'ResType3', 'ResType4',\n",
    "       'ResType5', 'ResStatus1', 'ResStatus2', 'MUndergrad', 'MGrad',\n",
    "       'FUndergrad', 'FGrad', 'Married', 'BuyDin', 'FAge', 'MAge']\n",
    "X = df[feature_cols] # Features\n",
    "y = df.BuyYog # Target variable"
   ]
  },
  {
   "cell_type": "code",
   "execution_count": 35,
   "metadata": {},
   "outputs": [],
   "source": [
    "# split X and y into training and testing sets\n",
    "X_train,X_test,y_train,y_test=train_test_split(X,y,test_size=0.25,random_state=0)"
   ]
  },
  {
   "cell_type": "code",
   "execution_count": 36,
   "metadata": {},
   "outputs": [
    {
     "name": "stderr",
     "output_type": "stream",
     "text": [
      "C:\\Users\\mckee\\Anaconda3\\lib\\site-packages\\sklearn\\linear_model\\logistic.py:432: FutureWarning: Default solver will be changed to 'lbfgs' in 0.22. Specify a solver to silence this warning.\n",
      "  FutureWarning)\n"
     ]
    }
   ],
   "source": [
    "# instantiate the model (using the default parameters)\n",
    "logreg = LogisticRegression()\n",
    "\n",
    "# fit the model with data\n",
    "logreg.fit(X_train,y_train)\n",
    "\n",
    "# predict the test data\n",
    "y_pred=logreg.predict(X_test)"
   ]
  },
  {
   "cell_type": "code",
   "execution_count": 39,
   "metadata": {},
   "outputs": [
    {
     "data": {
      "text/plain": [
       "array([[  0, 168],\n",
       "       [  0, 630]], dtype=int64)"
      ]
     },
     "execution_count": 39,
     "metadata": {},
     "output_type": "execute_result"
    }
   ],
   "source": [
    "# Model evaluation using the confusion matrix\n",
    "cnf_matrix = metrics.confusion_matrix(y_test, y_pred)\n",
    "cnf_matrix"
   ]
  },
  {
   "cell_type": "code",
   "execution_count": 42,
   "metadata": {},
   "outputs": [
    {
     "data": {
      "text/plain": [
       "Text(0.5, 257.44, 'Predicted label')"
      ]
     },
     "execution_count": 42,
     "metadata": {},
     "output_type": "execute_result"
    },
    {
     "data": {
      "image/png": "[encoded data removed]",
      "text/plain": [
       "<Figure size 432x288 with 2 Axes>"
      ]
     },
     "metadata": {
      "needs_background": "light"
     },
     "output_type": "display_data"
    }
   ],
   "source": [
    "# Visualize the confusion matrix\n",
    "class_names=[0,1] # name  of classes\n",
    "fig, ax = plt.subplots()\n",
    "tick_marks = np.arange(len(class_names))\n",
    "plt.xticks(tick_marks, class_names)\n",
    "plt.yticks(tick_marks, class_names)\n",
    "\n",
    "# create heatmap\n",
    "sns.heatmap(pd.DataFrame(cnf_matrix), annot=True, cmap=\"YlGnBu\" ,fmt='g')\n",
    "ax.xaxis.set_label_position(\"top\")\n",
    "plt.tight_layout()\n",
    "plt.title('Confusion matrix', y=1.1)\n",
    "plt.ylabel('Actual label')\n",
    "plt.xlabel('Predicted label')"
   ]
  },
  {
   "cell_type": "code",
   "execution_count": 44,
   "metadata": {},
   "outputs": [
    {
     "name": "stdout",
     "output_type": "stream",
     "text": [
      "Accuracy: 0.7894736842105263\n",
      "Precision: 0.7894736842105263\n",
      "Recall: 1.0\n"
     ]
    }
   ],
   "source": [
    "# Evaluate the confusion matrix\n",
    "print(\"Accuracy:\",metrics.accuracy_score(y_test, y_pred))\n",
    "print(\"Precision:\",metrics.precision_score(y_test, y_pred))\n",
    "print(\"Recall:\",metrics.recall_score(y_test, y_pred))"
   ]
  },
  {
   "cell_type": "code",
   "execution_count": 45,
   "metadata": {},
   "outputs": [
    {
     "data": {
      "image/png": "[encoded data removed]",
      "text/plain": [
       "<Figure size 432x288 with 1 Axes>"
      ]
     },
     "metadata": {
      "needs_background": "light"
     },
     "output_type": "display_data"
    }
   ],
   "source": [
    "# Receiver Operating Characteristic (ROC) curve to evaluate the AUC score\n",
    "y_pred_proba = logreg.predict_proba(X_test)[::,1]\n",
    "fpr, tpr, _ = metrics.roc_curve(y_test,  y_pred_proba)\n",
    "auc = metrics.roc_auc_score(y_test, y_pred_proba)\n",
    "plt.plot(fpr,tpr,label=\"data 1, auc=\"+str(auc))\n",
    "plt.legend(loc=4)\n",
    "plt.show()"
   ]
  },
  {
   "cell_type": "code",
   "execution_count": null,
   "metadata": {},
   "outputs": [],
   "source": []
  }
 ],
 "metadata": {
  "kernelspec": {
   "display_name": "Python 3",
   "language": "python",
   "name": "python3"
  },
  "language_info": {
   "codemirror_mode": {
    "name": "ipython",
    "version": 3
   },
   "file_extension": ".py",
   "mimetype": "text/x-python",
   "name": "python",
   "nbconvert_exporter": "python",
   "pygments_lexer": "ipython3",
   "version": "3.7.3"
  }
 },
 "nbformat": 4,
 "nbformat_minor": 2
}
