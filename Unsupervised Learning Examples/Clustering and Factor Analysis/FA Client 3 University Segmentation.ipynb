{
 "cells": [
  {
   "cell_type": "markdown",
   "metadata": {},
   "source": [
    "# FACTOR ANALYSIS ASSIGNMENT\n",
    "## CLIENT 3: College / University Segmentation\n",
    "### MARISSA MCKEE ADTA 5120"
   ]
  },
  {
   "cell_type": "markdown",
   "metadata": {},
   "source": [
    "You have been hired as a consultant by three clients to perform several analyses. Complete the brief reports to the client in a concise professional manner. It is suggested that you also include an appendix for your supervisor with the relevant SPSS output outlining your findings and analysis. Your supervisor will also like to see the SPSS *.spv file showing your executed SPSS analysis."
   ]
  },
  {
   "cell_type": "markdown",
   "metadata": {},
   "source": [
    "#### Client #3:  College / University Segmentation (33 points)\n",
    "\n",
    "A manager in the education industry would like to determine how his firm should segment colleges and universities into distinct marketing segments. Using the data in the file “college_scorecard_data.sav,” compile a report outlining your analysis and findings. Attempt to give a name to the types of schools that are in each of the groups."
   ]
  },
  {
   "cell_type": "code",
   "execution_count": 1,
   "metadata": {},
   "outputs": [],
   "source": [
    "import pandas as pd\n",
    "import pyreadstat\n",
    "from sklearn.datasets import load_iris\n",
    "from factor_analyzer import FactorAnalyzer\n",
    "import matplotlib.pyplot as plt\n",
    "from factor_analyzer.factor_analyzer import calculate_bartlett_sphericity\n",
    "from factor_analyzer.factor_analyzer import calculate_kmo"
   ]
  },
  {
   "cell_type": "code",
   "execution_count": 2,
   "metadata": {},
   "outputs": [
    {
     "data": {
      "text/html": [
       "<div>\n",
       "<style scoped>\n",
       "    .dataframe tbody tr th:only-of-type {\n",
       "        vertical-align: middle;\n",
       "    }\n",
       "\n",
       "    .dataframe tbody tr th {\n",
       "        vertical-align: top;\n",
       "    }\n",
       "\n",
       "    .dataframe thead th {\n",
       "        text-align: right;\n",
       "    }\n",
       "</style>\n",
       "<table border=\"1\" class=\"dataframe\">\n",
       "  <thead>\n",
       "    <tr style=\"text-align: right;\">\n",
       "      <th></th>\n",
       "      <th>Ownership</th>\n",
       "      <th>FamilyIncome</th>\n",
       "      <th>GradRate</th>\n",
       "      <th>PctFtFaculty</th>\n",
       "      <th>AdmissionRate</th>\n",
       "      <th>SATAVG</th>\n",
       "      <th>UndergradPop</th>\n",
       "      <th>FacultySalary</th>\n",
       "      <th>LoanCurrent3yr</th>\n",
       "      <th>PCTFedLoan</th>\n",
       "      <th>DEBT</th>\n",
       "      <th>CostToAttend</th>\n",
       "      <th>PartTime_students</th>\n",
       "      <th>Income_8yr</th>\n",
       "    </tr>\n",
       "  </thead>\n",
       "  <tbody>\n",
       "    <tr>\n",
       "      <th>0</th>\n",
       "      <td>1.0</td>\n",
       "      <td>35492.88814</td>\n",
       "      <td>0.2875</td>\n",
       "      <td>0.8099</td>\n",
       "      <td>0.4726</td>\n",
       "      <td>851.0</td>\n",
       "      <td>4483.0</td>\n",
       "      <td>6441.0</td>\n",
       "      <td>0.460419</td>\n",
       "      <td>0.6991</td>\n",
       "      <td>10057.5</td>\n",
       "      <td>13242.0</td>\n",
       "      <td>0.0749</td>\n",
       "      <td>28200.000087</td>\n",
       "    </tr>\n",
       "    <tr>\n",
       "      <th>1</th>\n",
       "      <td>1.0</td>\n",
       "      <td>49514.71992</td>\n",
       "      <td>0.3958</td>\n",
       "      <td>0.9204</td>\n",
       "      <td>0.8357</td>\n",
       "      <td>1107.0</td>\n",
       "      <td>10265.0</td>\n",
       "      <td>8634.0</td>\n",
       "      <td>0.646145</td>\n",
       "      <td>0.4493</td>\n",
       "      <td>8332.0</td>\n",
       "      <td>16955.0</td>\n",
       "      <td>0.2327</td>\n",
       "      <td>38199.999824</td>\n",
       "    </tr>\n",
       "    <tr>\n",
       "      <th>2</th>\n",
       "      <td>1.0</td>\n",
       "      <td>50687.20304</td>\n",
       "      <td>0.4755</td>\n",
       "      <td>0.6630</td>\n",
       "      <td>0.7209</td>\n",
       "      <td>1145.0</td>\n",
       "      <td>5956.0</td>\n",
       "      <td>7914.0</td>\n",
       "      <td>0.707648</td>\n",
       "      <td>0.4258</td>\n",
       "      <td>9000.0</td>\n",
       "      <td>16876.0</td>\n",
       "      <td>0.2258</td>\n",
       "      <td>44600.000089</td>\n",
       "    </tr>\n",
       "    <tr>\n",
       "      <th>3</th>\n",
       "      <td>1.0</td>\n",
       "      <td>28696.60602</td>\n",
       "      <td>0.2174</td>\n",
       "      <td>0.5907</td>\n",
       "      <td>0.4625</td>\n",
       "      <td>805.0</td>\n",
       "      <td>4638.0</td>\n",
       "      <td>6567.0</td>\n",
       "      <td>0.398134</td>\n",
       "      <td>0.8514</td>\n",
       "      <td>8250.0</td>\n",
       "      <td>14000.0</td>\n",
       "      <td>0.0910</td>\n",
       "      <td>25900.000060</td>\n",
       "    </tr>\n",
       "    <tr>\n",
       "      <th>4</th>\n",
       "      <td>1.0</td>\n",
       "      <td>75718.58599</td>\n",
       "      <td>0.6593</td>\n",
       "      <td>0.7402</td>\n",
       "      <td>0.5870</td>\n",
       "      <td>1122.0</td>\n",
       "      <td>23296.0</td>\n",
       "      <td>8160.0</td>\n",
       "      <td>0.708560</td>\n",
       "      <td>0.3109</td>\n",
       "      <td>11625.0</td>\n",
       "      <td>20496.0</td>\n",
       "      <td>0.0749</td>\n",
       "      <td>40199.999815</td>\n",
       "    </tr>\n",
       "  </tbody>\n",
       "</table>\n",
       "</div>"
      ],
      "text/plain": [
       "   Ownership  FamilyIncome  GradRate  PctFtFaculty  AdmissionRate  SATAVG  \\\n",
       "0        1.0   35492.88814    0.2875        0.8099         0.4726   851.0   \n",
       "1        1.0   49514.71992    0.3958        0.9204         0.8357  1107.0   \n",
       "2        1.0   50687.20304    0.4755        0.6630         0.7209  1145.0   \n",
       "3        1.0   28696.60602    0.2174        0.5907         0.4625   805.0   \n",
       "4        1.0   75718.58599    0.6593        0.7402         0.5870  1122.0   \n",
       "\n",
       "   UndergradPop  FacultySalary  LoanCurrent3yr  PCTFedLoan     DEBT  \\\n",
       "0        4483.0         6441.0        0.460419      0.6991  10057.5   \n",
       "1       10265.0         8634.0        0.646145      0.4493   8332.0   \n",
       "2        5956.0         7914.0        0.707648      0.4258   9000.0   \n",
       "3        4638.0         6567.0        0.398134      0.8514   8250.0   \n",
       "4       23296.0         8160.0        0.708560      0.3109  11625.0   \n",
       "\n",
       "   CostToAttend  PartTime_students    Income_8yr  \n",
       "0       13242.0             0.0749  28200.000087  \n",
       "1       16955.0             0.2327  38199.999824  \n",
       "2       16876.0             0.2258  44600.000089  \n",
       "3       14000.0             0.0910  25900.000060  \n",
       "4       20496.0             0.0749  40199.999815  "
      ]
     },
     "execution_count": 2,
     "metadata": {},
     "output_type": "execute_result"
    }
   ],
   "source": [
    "# Read college_scorecard_data.sav \n",
    "df, meta = pyreadstat.read_sav(\"college_scorecard_data.sav\")\n",
    "df.head()"
   ]
  },
  {
   "cell_type": "code",
   "execution_count": 3,
   "metadata": {},
   "outputs": [
    {
     "data": {
      "text/plain": [
       "Index(['Ownership', 'FamilyIncome', 'GradRate', 'PctFtFaculty',\n",
       "       'AdmissionRate', 'SATAVG', 'UndergradPop', 'FacultySalary',\n",
       "       'LoanCurrent3yr', 'PCTFedLoan', 'DEBT', 'CostToAttend',\n",
       "       'PartTime_students', 'Income_8yr'],\n",
       "      dtype='object')"
      ]
     },
     "execution_count": 3,
     "metadata": {},
     "output_type": "execute_result"
    }
   ],
   "source": [
    "# View the features in the dataframe\n",
    "df.columns"
   ]
  },
  {
   "cell_type": "code",
   "execution_count": 4,
   "metadata": {},
   "outputs": [
    {
     "data": {
      "text/plain": [
       "Ownership            False\n",
       "FamilyIncome         False\n",
       "GradRate             False\n",
       "PctFtFaculty         False\n",
       "AdmissionRate        False\n",
       "SATAVG               False\n",
       "UndergradPop         False\n",
       "FacultySalary        False\n",
       "LoanCurrent3yr       False\n",
       "PCTFedLoan           False\n",
       "DEBT                 False\n",
       "CostToAttend         False\n",
       "PartTime_students    False\n",
       "Income_8yr           False\n",
       "dtype: bool"
      ]
     },
     "execution_count": 4,
     "metadata": {},
     "output_type": "execute_result"
    }
   ],
   "source": [
    "# Check for nulls\n",
    "df.isnull().any()"
   ]
  },
  {
   "cell_type": "code",
   "execution_count": 5,
   "metadata": {},
   "outputs": [],
   "source": [
    "# Drop rows with missing values\n",
    "df.dropna(inplace=True)"
   ]
  },
  {
   "cell_type": "code",
   "execution_count": 6,
   "metadata": {},
   "outputs": [
    {
     "name": "stdout",
     "output_type": "stream",
     "text": [
      "<class 'pandas.core.frame.DataFrame'>\n",
      "Int64Index: 1230 entries, 0 to 1229\n",
      "Data columns (total 14 columns):\n",
      "Ownership            1230 non-null float64\n",
      "FamilyIncome         1230 non-null float64\n",
      "GradRate             1230 non-null float64\n",
      "PctFtFaculty         1230 non-null float64\n",
      "AdmissionRate        1230 non-null float64\n",
      "SATAVG               1230 non-null float64\n",
      "UndergradPop         1230 non-null float64\n",
      "FacultySalary        1230 non-null float64\n",
      "LoanCurrent3yr       1230 non-null float64\n",
      "PCTFedLoan           1230 non-null float64\n",
      "DEBT                 1230 non-null float64\n",
      "CostToAttend         1230 non-null float64\n",
      "PartTime_students    1230 non-null float64\n",
      "Income_8yr           1230 non-null float64\n",
      "dtypes: float64(14)\n",
      "memory usage: 144.1 KB\n"
     ]
    }
   ],
   "source": [
    "# Sanity check \n",
    "df.info()"
   ]
  },
  {
   "cell_type": "code",
   "execution_count": 7,
   "metadata": {},
   "outputs": [
    {
     "data": {
      "text/html": [
       "<div>\n",
       "<style scoped>\n",
       "    .dataframe tbody tr th:only-of-type {\n",
       "        vertical-align: middle;\n",
       "    }\n",
       "\n",
       "    .dataframe tbody tr th {\n",
       "        vertical-align: top;\n",
       "    }\n",
       "\n",
       "    .dataframe thead th {\n",
       "        text-align: right;\n",
       "    }\n",
       "</style>\n",
       "<table border=\"1\" class=\"dataframe\">\n",
       "  <thead>\n",
       "    <tr style=\"text-align: right;\">\n",
       "      <th></th>\n",
       "      <th>Ownership</th>\n",
       "      <th>FamilyIncome</th>\n",
       "      <th>GradRate</th>\n",
       "      <th>PctFtFaculty</th>\n",
       "      <th>AdmissionRate</th>\n",
       "      <th>SATAVG</th>\n",
       "      <th>UndergradPop</th>\n",
       "      <th>FacultySalary</th>\n",
       "      <th>LoanCurrent3yr</th>\n",
       "      <th>PCTFedLoan</th>\n",
       "      <th>DEBT</th>\n",
       "      <th>CostToAttend</th>\n",
       "      <th>PartTime_students</th>\n",
       "      <th>Income_8yr</th>\n",
       "    </tr>\n",
       "  </thead>\n",
       "  <tbody>\n",
       "    <tr>\n",
       "      <th>0</th>\n",
       "      <td>1.0</td>\n",
       "      <td>35492.88814</td>\n",
       "      <td>0.2875</td>\n",
       "      <td>0.8099</td>\n",
       "      <td>0.4726</td>\n",
       "      <td>851.0</td>\n",
       "      <td>4483.0</td>\n",
       "      <td>6441.0</td>\n",
       "      <td>0.460419</td>\n",
       "      <td>0.6991</td>\n",
       "      <td>10057.5</td>\n",
       "      <td>13242.0</td>\n",
       "      <td>0.0749</td>\n",
       "      <td>28200.000087</td>\n",
       "    </tr>\n",
       "    <tr>\n",
       "      <th>1</th>\n",
       "      <td>1.0</td>\n",
       "      <td>49514.71992</td>\n",
       "      <td>0.3958</td>\n",
       "      <td>0.9204</td>\n",
       "      <td>0.8357</td>\n",
       "      <td>1107.0</td>\n",
       "      <td>10265.0</td>\n",
       "      <td>8634.0</td>\n",
       "      <td>0.646145</td>\n",
       "      <td>0.4493</td>\n",
       "      <td>8332.0</td>\n",
       "      <td>16955.0</td>\n",
       "      <td>0.2327</td>\n",
       "      <td>38199.999824</td>\n",
       "    </tr>\n",
       "    <tr>\n",
       "      <th>2</th>\n",
       "      <td>1.0</td>\n",
       "      <td>50687.20304</td>\n",
       "      <td>0.4755</td>\n",
       "      <td>0.6630</td>\n",
       "      <td>0.7209</td>\n",
       "      <td>1145.0</td>\n",
       "      <td>5956.0</td>\n",
       "      <td>7914.0</td>\n",
       "      <td>0.707648</td>\n",
       "      <td>0.4258</td>\n",
       "      <td>9000.0</td>\n",
       "      <td>16876.0</td>\n",
       "      <td>0.2258</td>\n",
       "      <td>44600.000089</td>\n",
       "    </tr>\n",
       "    <tr>\n",
       "      <th>3</th>\n",
       "      <td>1.0</td>\n",
       "      <td>28696.60602</td>\n",
       "      <td>0.2174</td>\n",
       "      <td>0.5907</td>\n",
       "      <td>0.4625</td>\n",
       "      <td>805.0</td>\n",
       "      <td>4638.0</td>\n",
       "      <td>6567.0</td>\n",
       "      <td>0.398134</td>\n",
       "      <td>0.8514</td>\n",
       "      <td>8250.0</td>\n",
       "      <td>14000.0</td>\n",
       "      <td>0.0910</td>\n",
       "      <td>25900.000060</td>\n",
       "    </tr>\n",
       "    <tr>\n",
       "      <th>4</th>\n",
       "      <td>1.0</td>\n",
       "      <td>75718.58599</td>\n",
       "      <td>0.6593</td>\n",
       "      <td>0.7402</td>\n",
       "      <td>0.5870</td>\n",
       "      <td>1122.0</td>\n",
       "      <td>23296.0</td>\n",
       "      <td>8160.0</td>\n",
       "      <td>0.708560</td>\n",
       "      <td>0.3109</td>\n",
       "      <td>11625.0</td>\n",
       "      <td>20496.0</td>\n",
       "      <td>0.0749</td>\n",
       "      <td>40199.999815</td>\n",
       "    </tr>\n",
       "  </tbody>\n",
       "</table>\n",
       "</div>"
      ],
      "text/plain": [
       "   Ownership  FamilyIncome  GradRate  PctFtFaculty  AdmissionRate  SATAVG  \\\n",
       "0        1.0   35492.88814    0.2875        0.8099         0.4726   851.0   \n",
       "1        1.0   49514.71992    0.3958        0.9204         0.8357  1107.0   \n",
       "2        1.0   50687.20304    0.4755        0.6630         0.7209  1145.0   \n",
       "3        1.0   28696.60602    0.2174        0.5907         0.4625   805.0   \n",
       "4        1.0   75718.58599    0.6593        0.7402         0.5870  1122.0   \n",
       "\n",
       "   UndergradPop  FacultySalary  LoanCurrent3yr  PCTFedLoan     DEBT  \\\n",
       "0        4483.0         6441.0        0.460419      0.6991  10057.5   \n",
       "1       10265.0         8634.0        0.646145      0.4493   8332.0   \n",
       "2        5956.0         7914.0        0.707648      0.4258   9000.0   \n",
       "3        4638.0         6567.0        0.398134      0.8514   8250.0   \n",
       "4       23296.0         8160.0        0.708560      0.3109  11625.0   \n",
       "\n",
       "   CostToAttend  PartTime_students    Income_8yr  \n",
       "0       13242.0             0.0749  28200.000087  \n",
       "1       16955.0             0.2327  38199.999824  \n",
       "2       16876.0             0.2258  44600.000089  \n",
       "3       14000.0             0.0910  25900.000060  \n",
       "4       20496.0             0.0749  40199.999815  "
      ]
     },
     "execution_count": 7,
     "metadata": {},
     "output_type": "execute_result"
    }
   ],
   "source": [
    "# View output \n",
    "df.head()"
   ]
  },
  {
   "cell_type": "code",
   "execution_count": 8,
   "metadata": {},
   "outputs": [
    {
     "name": "stdout",
     "output_type": "stream",
     "text": [
      "Chi square value: 12230.348849597196\n",
      "P value: 0.0\n"
     ]
    }
   ],
   "source": [
    "# Bartletts test: checks for intercorrelation among variables\n",
    "chi_square_value,p_value=calculate_bartlett_sphericity(df)\n",
    "print('Chi square value:',chi_square_value)\n",
    "print('P value:',p_value)"
   ]
  },
  {
   "cell_type": "code",
   "execution_count": 9,
   "metadata": {},
   "outputs": [
    {
     "name": "stdout",
     "output_type": "stream",
     "text": [
      "KMO: 0.8240811265429925\n"
     ]
    }
   ],
   "source": [
    "# Kaiser (KMO) test: measures the adequacy of the data for factor analysis\n",
    "kmo_all,kmo_model=calculate_kmo(df)\n",
    "print('KMO:',kmo_model)"
   ]
  },
  {
   "cell_type": "code",
   "execution_count": 10,
   "metadata": {},
   "outputs": [
    {
     "name": "stdout",
     "output_type": "stream",
     "text": [
      "Eigen: [5.49201552 2.79095357 1.16274085 1.12748454 0.8221855  0.67835313\n",
      " 0.41329743 0.40174777 0.29486036 0.23092014 0.18759555 0.17506269\n",
      " 0.14786988 0.07491307]\n"
     ]
    }
   ],
   "source": [
    "# Create factor analysis object to perform factor analysis \n",
    "fa = FactorAnalyzer(5, rotation=\"varimax\")\n",
    "fa.fit(df)\n",
    "\n",
    "# Eigen values \n",
    "eigen, vectors = fa.get_eigenvalues()\n",
    "print('Eigen:',eigen)"
   ]
  },
  {
   "cell_type": "code",
   "execution_count": 11,
   "metadata": {},
   "outputs": [
    {
     "data": {
      "image/png": "[encoded data removed]",
      "text/plain": [
       "<Figure size 432x288 with 1 Axes>"
      ]
     },
     "metadata": {
      "needs_background": "light"
     },
     "output_type": "display_data"
    }
   ],
   "source": [
    "# Create scree plot using matplotlib\n",
    "plt.scatter(range(1,df.shape[1]+1),eigen)\n",
    "plt.plot(range(1,df.shape[1]+1),eigen)\n",
    "plt.title('Scree Plot')\n",
    "plt.xlabel('Factors')\n",
    "plt.ylabel('Eigenvalue')\n",
    "plt.grid()\n",
    "plt.show()"
   ]
  },
  {
   "cell_type": "code",
   "execution_count": 12,
   "metadata": {},
   "outputs": [
    {
     "data": {
      "text/plain": [
       "FactorAnalyzer(bounds=(0.005, 1), impute='median', is_corr_matrix=False,\n",
       "               method='minres', n_factors=6, rotation='varimax',\n",
       "               rotation_kwargs={}, use_smc=True)"
      ]
     },
     "execution_count": 12,
     "metadata": {},
     "output_type": "execute_result"
    }
   ],
   "source": [
    "# Create factor analysis object and perform factor analysis\n",
    "fa = FactorAnalyzer(6, rotation=\"varimax\")\n",
    "fa.fit(df)"
   ]
  },
  {
   "cell_type": "code",
   "execution_count": 13,
   "metadata": {},
   "outputs": [
    {
     "name": "stdout",
     "output_type": "stream",
     "text": [
      "[[-0.23428018  0.87462481 -0.12041462 -0.16881425  0.08358062 -0.15129605]\n",
      " [ 0.87952507 -0.14101952  0.09315974  0.01303184  0.16357061 -0.27347347]\n",
      " [ 0.83355656 -0.0654957   0.27236644  0.00250101  0.2883128   0.14052013]\n",
      " [ 0.01935905  0.07967338  0.01780845 -0.05994442  0.33749091  0.02654755]\n",
      " [-0.06494761  0.06962237 -0.57122301  0.08172191 -0.12118077  0.00790895]\n",
      " [ 0.73662818 -0.01884495  0.3232207  -0.27132488  0.34366097  0.13317124]\n",
      " [ 0.09457592  0.70146009  0.13118956 -0.16016288  0.03591512  0.16001227]\n",
      " [ 0.55176635  0.42981684  0.58540157 -0.21030841 -0.08609149  0.01011959]\n",
      " [ 0.86703488 -0.06575434 -0.11181605 -0.11692566  0.10267584  0.00594391]\n",
      " [-0.18480396 -0.30223425 -0.21963481  0.77973893 -0.0776454  -0.01544538]\n",
      " [ 0.62800301 -0.28764564  0.02165633  0.45881166 -0.00296486 -0.02153431]\n",
      " [ 0.60165409 -0.6507073   0.33649604  0.06317757 -0.0820115   0.01411816]\n",
      " [-0.3406057   0.13387948 -0.20457346 -0.21119752 -0.52484125  0.24465528]\n",
      " [ 0.72199095  0.12240164  0.35197712 -0.07264829 -0.22786556  0.03154344]]\n"
     ]
    }
   ],
   "source": [
    "loadings=fa.loadings_\n",
    "print(loadings)"
   ]
  },
  {
   "cell_type": "code",
   "execution_count": 14,
   "metadata": {},
   "outputs": [
    {
     "data": {
      "text/plain": [
       "(array([4.56343343, 2.11221883, 1.22853113, 1.06849122, 0.72294159,\n",
       "        0.22342051]),\n",
       " array([0.32595953, 0.15087277, 0.08775222, 0.0763208 , 0.05163869,\n",
       "        0.01595861]),\n",
       " array([0.32595953, 0.4768323 , 0.56458453, 0.64090533, 0.69254401,\n",
       "        0.70850262]))"
      ]
     },
     "execution_count": 14,
     "metadata": {},
     "output_type": "execute_result"
    }
   ],
   "source": [
    "# Get variance of each factors\n",
    "fa.get_factor_variance()"
   ]
  },
  {
   "cell_type": "code",
   "execution_count": 15,
   "metadata": {},
   "outputs": [
    {
     "data": {
      "text/html": [
       "<div>\n",
       "<style scoped>\n",
       "    .dataframe tbody tr th:only-of-type {\n",
       "        vertical-align: middle;\n",
       "    }\n",
       "\n",
       "    .dataframe tbody tr th {\n",
       "        vertical-align: top;\n",
       "    }\n",
       "\n",
       "    .dataframe thead th {\n",
       "        text-align: right;\n",
       "    }\n",
       "</style>\n",
       "<table border=\"1\" class=\"dataframe\">\n",
       "  <thead>\n",
       "    <tr style=\"text-align: right;\">\n",
       "      <th></th>\n",
       "      <th>0</th>\n",
       "      <th>1</th>\n",
       "      <th>2</th>\n",
       "      <th>3</th>\n",
       "      <th>4</th>\n",
       "      <th>5</th>\n",
       "    </tr>\n",
       "  </thead>\n",
       "  <tbody>\n",
       "    <tr>\n",
       "      <th>0</th>\n",
       "      <td>-0.234280</td>\n",
       "      <td>0.874625</td>\n",
       "      <td>-0.120415</td>\n",
       "      <td>-0.168814</td>\n",
       "      <td>0.083581</td>\n",
       "      <td>-0.151296</td>\n",
       "    </tr>\n",
       "    <tr>\n",
       "      <th>1</th>\n",
       "      <td>0.879525</td>\n",
       "      <td>-0.141020</td>\n",
       "      <td>0.093160</td>\n",
       "      <td>0.013032</td>\n",
       "      <td>0.163571</td>\n",
       "      <td>-0.273473</td>\n",
       "    </tr>\n",
       "    <tr>\n",
       "      <th>2</th>\n",
       "      <td>0.833557</td>\n",
       "      <td>-0.065496</td>\n",
       "      <td>0.272366</td>\n",
       "      <td>0.002501</td>\n",
       "      <td>0.288313</td>\n",
       "      <td>0.140520</td>\n",
       "    </tr>\n",
       "    <tr>\n",
       "      <th>3</th>\n",
       "      <td>0.019359</td>\n",
       "      <td>0.079673</td>\n",
       "      <td>0.017808</td>\n",
       "      <td>-0.059944</td>\n",
       "      <td>0.337491</td>\n",
       "      <td>0.026548</td>\n",
       "    </tr>\n",
       "    <tr>\n",
       "      <th>4</th>\n",
       "      <td>-0.064948</td>\n",
       "      <td>0.069622</td>\n",
       "      <td>-0.571223</td>\n",
       "      <td>0.081722</td>\n",
       "      <td>-0.121181</td>\n",
       "      <td>0.007909</td>\n",
       "    </tr>\n",
       "    <tr>\n",
       "      <th>5</th>\n",
       "      <td>0.736628</td>\n",
       "      <td>-0.018845</td>\n",
       "      <td>0.323221</td>\n",
       "      <td>-0.271325</td>\n",
       "      <td>0.343661</td>\n",
       "      <td>0.133171</td>\n",
       "    </tr>\n",
       "    <tr>\n",
       "      <th>6</th>\n",
       "      <td>0.094576</td>\n",
       "      <td>0.701460</td>\n",
       "      <td>0.131190</td>\n",
       "      <td>-0.160163</td>\n",
       "      <td>0.035915</td>\n",
       "      <td>0.160012</td>\n",
       "    </tr>\n",
       "    <tr>\n",
       "      <th>7</th>\n",
       "      <td>0.551766</td>\n",
       "      <td>0.429817</td>\n",
       "      <td>0.585402</td>\n",
       "      <td>-0.210308</td>\n",
       "      <td>-0.086091</td>\n",
       "      <td>0.010120</td>\n",
       "    </tr>\n",
       "    <tr>\n",
       "      <th>8</th>\n",
       "      <td>0.867035</td>\n",
       "      <td>-0.065754</td>\n",
       "      <td>-0.111816</td>\n",
       "      <td>-0.116926</td>\n",
       "      <td>0.102676</td>\n",
       "      <td>0.005944</td>\n",
       "    </tr>\n",
       "    <tr>\n",
       "      <th>9</th>\n",
       "      <td>-0.184804</td>\n",
       "      <td>-0.302234</td>\n",
       "      <td>-0.219635</td>\n",
       "      <td>0.779739</td>\n",
       "      <td>-0.077645</td>\n",
       "      <td>-0.015445</td>\n",
       "    </tr>\n",
       "    <tr>\n",
       "      <th>10</th>\n",
       "      <td>0.628003</td>\n",
       "      <td>-0.287646</td>\n",
       "      <td>0.021656</td>\n",
       "      <td>0.458812</td>\n",
       "      <td>-0.002965</td>\n",
       "      <td>-0.021534</td>\n",
       "    </tr>\n",
       "    <tr>\n",
       "      <th>11</th>\n",
       "      <td>0.601654</td>\n",
       "      <td>-0.650707</td>\n",
       "      <td>0.336496</td>\n",
       "      <td>0.063178</td>\n",
       "      <td>-0.082011</td>\n",
       "      <td>0.014118</td>\n",
       "    </tr>\n",
       "    <tr>\n",
       "      <th>12</th>\n",
       "      <td>-0.340606</td>\n",
       "      <td>0.133879</td>\n",
       "      <td>-0.204573</td>\n",
       "      <td>-0.211198</td>\n",
       "      <td>-0.524841</td>\n",
       "      <td>0.244655</td>\n",
       "    </tr>\n",
       "    <tr>\n",
       "      <th>13</th>\n",
       "      <td>0.721991</td>\n",
       "      <td>0.122402</td>\n",
       "      <td>0.351977</td>\n",
       "      <td>-0.072648</td>\n",
       "      <td>-0.227866</td>\n",
       "      <td>0.031543</td>\n",
       "    </tr>\n",
       "  </tbody>\n",
       "</table>\n",
       "</div>"
      ],
      "text/plain": [
       "           0         1         2         3         4         5\n",
       "0  -0.234280  0.874625 -0.120415 -0.168814  0.083581 -0.151296\n",
       "1   0.879525 -0.141020  0.093160  0.013032  0.163571 -0.273473\n",
       "2   0.833557 -0.065496  0.272366  0.002501  0.288313  0.140520\n",
       "3   0.019359  0.079673  0.017808 -0.059944  0.337491  0.026548\n",
       "4  -0.064948  0.069622 -0.571223  0.081722 -0.121181  0.007909\n",
       "5   0.736628 -0.018845  0.323221 -0.271325  0.343661  0.133171\n",
       "6   0.094576  0.701460  0.131190 -0.160163  0.035915  0.160012\n",
       "7   0.551766  0.429817  0.585402 -0.210308 -0.086091  0.010120\n",
       "8   0.867035 -0.065754 -0.111816 -0.116926  0.102676  0.005944\n",
       "9  -0.184804 -0.302234 -0.219635  0.779739 -0.077645 -0.015445\n",
       "10  0.628003 -0.287646  0.021656  0.458812 -0.002965 -0.021534\n",
       "11  0.601654 -0.650707  0.336496  0.063178 -0.082011  0.014118\n",
       "12 -0.340606  0.133879 -0.204573 -0.211198 -0.524841  0.244655\n",
       "13  0.721991  0.122402  0.351977 -0.072648 -0.227866  0.031543"
      ]
     },
     "execution_count": 15,
     "metadata": {},
     "output_type": "execute_result"
    }
   ],
   "source": [
    "# Display 6 factors\n",
    "pd.DataFrame.from_records(loadings)"
   ]
  }
 ],
 "metadata": {
  "kernelspec": {
   "display_name": "Python 3",
   "language": "python",
   "name": "python3"
  },
  "language_info": {
   "codemirror_mode": {
    "name": "ipython",
    "version": 3
   },
   "file_extension": ".py",
   "mimetype": "text/x-python",
   "name": "python",
   "nbconvert_exporter": "python",
   "pygments_lexer": "ipython3",
   "version": "3.7.3"
  }
 },
 "nbformat": 4,
 "nbformat_minor": 2
}
